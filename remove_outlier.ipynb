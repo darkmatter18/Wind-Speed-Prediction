{
 "cells": [
  {
   "cell_type": "code",
   "execution_count": 1,
   "metadata": {},
   "outputs": [],
   "source": [
    "import pandas as pd\n",
    "import numpy as np\n",
    "import seaborn as sns\n",
    "from scipy import stats\n",
    "import matplotlib.pyplot as plt"
   ]
  },
  {
   "cell_type": "code",
   "execution_count": 2,
   "metadata": {},
   "outputs": [
    {
     "data": {
      "text/html": [
       "<div>\n",
       "<style scoped>\n",
       "    .dataframe tbody tr th:only-of-type {\n",
       "        vertical-align: middle;\n",
       "    }\n",
       "\n",
       "    .dataframe tbody tr th {\n",
       "        vertical-align: top;\n",
       "    }\n",
       "\n",
       "    .dataframe thead th {\n",
       "        text-align: right;\n",
       "    }\n",
       "</style>\n",
       "<table border=\"1\" class=\"dataframe\">\n",
       "  <thead>\n",
       "    <tr style=\"text-align: right;\">\n",
       "      <th></th>\n",
       "      <th>time</th>\n",
       "      <th>air_temperature_mean</th>\n",
       "      <th>pressure</th>\n",
       "      <th>humidity</th>\n",
       "      <th>vapor_pressure</th>\n",
       "      <th>wind_direction</th>\n",
       "      <th>wind_speed</th>\n",
       "      <th>wind_speed_cos</th>\n",
       "      <th>wind_speed_sin</th>\n",
       "    </tr>\n",
       "  </thead>\n",
       "  <tbody>\n",
       "    <tr>\n",
       "      <td>0</td>\n",
       "      <td>1/1/1995 17:00</td>\n",
       "      <td>2.0</td>\n",
       "      <td>993</td>\n",
       "      <td>58.4</td>\n",
       "      <td>2.7</td>\n",
       "      <td>259</td>\n",
       "      <td>7.3</td>\n",
       "      <td>1.316926</td>\n",
       "      <td>7.180230</td>\n",
       "    </tr>\n",
       "    <tr>\n",
       "      <td>1</td>\n",
       "      <td>1/1/1995 19:00</td>\n",
       "      <td>1.2</td>\n",
       "      <td>993</td>\n",
       "      <td>67.3</td>\n",
       "      <td>2.9</td>\n",
       "      <td>249</td>\n",
       "      <td>6.2</td>\n",
       "      <td>-4.256081</td>\n",
       "      <td>-4.508412</td>\n",
       "    </tr>\n",
       "    <tr>\n",
       "      <td>2</td>\n",
       "      <td>1/1/1995 20:00</td>\n",
       "      <td>1.1</td>\n",
       "      <td>993</td>\n",
       "      <td>73.0</td>\n",
       "      <td>3.1</td>\n",
       "      <td>249</td>\n",
       "      <td>5.6</td>\n",
       "      <td>-3.844202</td>\n",
       "      <td>-4.072114</td>\n",
       "    </tr>\n",
       "    <tr>\n",
       "      <td>3</td>\n",
       "      <td>1/1/1995 21:00</td>\n",
       "      <td>0.7</td>\n",
       "      <td>993</td>\n",
       "      <td>78.9</td>\n",
       "      <td>3.3</td>\n",
       "      <td>258</td>\n",
       "      <td>6.2</td>\n",
       "      <td>5.735844</td>\n",
       "      <td>2.353741</td>\n",
       "    </tr>\n",
       "    <tr>\n",
       "      <td>4</td>\n",
       "      <td>1/1/1995 22:00</td>\n",
       "      <td>0.8</td>\n",
       "      <td>993</td>\n",
       "      <td>80.3</td>\n",
       "      <td>3.3</td>\n",
       "      <td>249</td>\n",
       "      <td>5.5</td>\n",
       "      <td>-3.775555</td>\n",
       "      <td>-3.999398</td>\n",
       "    </tr>\n",
       "  </tbody>\n",
       "</table>\n",
       "</div>"
      ],
      "text/plain": [
       "             time  air_temperature_mean  pressure  humidity  vapor_pressure  \\\n",
       "0  1/1/1995 17:00                   2.0       993      58.4             2.7   \n",
       "1  1/1/1995 19:00                   1.2       993      67.3             2.9   \n",
       "2  1/1/1995 20:00                   1.1       993      73.0             3.1   \n",
       "3  1/1/1995 21:00                   0.7       993      78.9             3.3   \n",
       "4  1/1/1995 22:00                   0.8       993      80.3             3.3   \n",
       "\n",
       "   wind_direction  wind_speed  wind_speed_cos  wind_speed_sin  \n",
       "0             259         7.3        1.316926        7.180230  \n",
       "1             249         6.2       -4.256081       -4.508412  \n",
       "2             249         5.6       -3.844202       -4.072114  \n",
       "3             258         6.2        5.735844        2.353741  \n",
       "4             249         5.5       -3.775555       -3.999398  "
      ]
     },
     "execution_count": 2,
     "metadata": {},
     "output_type": "execute_result"
    }
   ],
   "source": [
    "data= pd.read_csv('./dataset-hourly-new-no-outlier.csv')\n",
    "data.head()"
   ]
  },
  {
   "cell_type": "code",
   "execution_count": null,
   "metadata": {},
   "outputs": [],
   "source": [
    "fig, axs = plt.subplots(nrows=4, figsize=(15, 15))\n",
    "\n",
    "sns.boxplot(x='air_temperature_mean', data=data, ax=axs[0])\n",
    "sns.boxplot(x='pressure', data=data, ax=axs[1])\n",
    "sns.boxplot(x='wind_direction', data=data, ax=axs[2])\n",
    "sns.boxplot(x='wind_speed', data=data, ax=axs[3])"
   ]
  },
  {
   "cell_type": "code",
   "execution_count": null,
   "metadata": {},
   "outputs": [],
   "source": [
    "def find_l_u(data, col_name):\n",
    "    Q3 = data[col_name].quantile(0.75)\n",
    "    Q1 = data[col_name].quantile(0.25)\n",
    "\n",
    "    IQR = Q3-Q1\n",
    "    upperLimit = Q3 + 1.5 * IQR\n",
    "    lowerlimit = Q1 - 1.5 * IQR\n",
    "    return (lowerlimit, upperLimit)\n",
    "\n",
    "def remove_rows(data, col_name, upperlimit=None, lowerlimit=None):\n",
    "    dataNew = data.copy()\n",
    "    p_len = len(dataNew)\n",
    "    print(f'Previous Length: {p_len}')\n",
    "    if upperlimit:\n",
    "        dataNew = dataNew[dataNew[col_name] < upperlimit]\n",
    "        print(f'Length after remove upper outliers: {len(dataNew)}')\n",
    "        print(f'Upper Rows removed: {p_len - len(dataNew)}')\n",
    "    if lowerlimit:\n",
    "        dataNew = dataNew[dataNew[col_name] > lowerlimit]\n",
    "        print(f'Length after remove lower outliers: {len(dataNew)}')\n",
    "        print(f'Lower Rows removed: {p_len - len(dataNew)}')\n",
    "    n_len = len(dataNew)\n",
    "    print(f'Total Rows removed: {p_len - n_len}')\n",
    "    return dataNew\n",
    "\n",
    "def boxplot_df(dataNew):\n",
    "    fig, axs = plt.subplots(nrows=4, figsize=(15, 15))\n",
    "\n",
    "    sns.boxplot(x='air_temperature_mean', data=dataNew, ax=axs[0])\n",
    "    sns.boxplot(x='pressure', data=dataNew, ax=axs[1])\n",
    "    sns.boxplot(x='wind_direction', data=dataNew, ax=axs[2])\n",
    "    sns.boxplot(x='wind_speed', data=dataNew, ax=axs[3])"
   ]
  },
  {
   "cell_type": "code",
   "execution_count": null,
   "metadata": {},
   "outputs": [],
   "source": [
    "def remove_do(data, column):\n",
    "    lower, upper = find_l_u(data, column)\n",
    "    print(f'Lower is: {lower}, Upper is: {upper}')\n",
    "    data_n = remove_rows(data, column, upperlimit=upper, lowerlimit=lower)\n",
    "    sns.boxplot(x=column, data=data_n)\n",
    "    return data_n"
   ]
  },
  {
   "cell_type": "code",
   "execution_count": null,
   "metadata": {},
   "outputs": [],
   "source": [
    "data_1 = remove_do(data, 'humidity')"
   ]
  },
  {
   "cell_type": "code",
   "execution_count": null,
   "metadata": {},
   "outputs": [],
   "source": [
    "data_2 = remove_do(data_1, 'vapor_pressure')"
   ]
  },
  {
   "cell_type": "code",
   "execution_count": null,
   "metadata": {},
   "outputs": [],
   "source": [
    "data_3 = remove_do(data_2, 'wind_speed_sin')"
   ]
  },
  {
   "cell_type": "code",
   "execution_count": null,
   "metadata": {},
   "outputs": [],
   "source": [
    "data_4 = remove_do(data_3, 'wind_speed_cos')"
   ]
  },
  {
   "cell_type": "code",
   "execution_count": null,
   "metadata": {},
   "outputs": [],
   "source": [
    "from sklearn.preprocessing import MinMaxScaler"
   ]
  },
  {
   "cell_type": "code",
   "execution_count": null,
   "metadata": {},
   "outputs": [],
   "source": [
    "mmdata=MinMaxScaler().fit_transform(data[['air_temperature_mean', 'pressure', 'wind_direction', 'wind_speed']])"
   ]
  },
  {
   "cell_type": "code",
   "execution_count": null,
   "metadata": {},
   "outputs": [],
   "source": [
    "fig, axs = plt.subplots(nrows=4, figsize=(15, 15))\n",
    "\n",
    "sns.boxplot(x=mmdata[:,0], ax=axs[0])\n",
    "sns.boxplot(x=mmdata[:,1],  ax=axs[1])\n",
    "sns.boxplot(x=mmdata[:,2], ax=axs[2])\n",
    "sns.boxplot(x=mmdata[:,3], ax=axs[3])"
   ]
  },
  {
   "cell_type": "code",
   "execution_count": null,
   "metadata": {},
   "outputs": [],
   "source": [
    "data_4.to_csv('./dataset-hourly-new-no-outlier.csv')"
   ]
  },
  {
   "cell_type": "code",
   "execution_count": null,
   "metadata": {},
   "outputs": [],
   "source": [
    "data.columns[0]"
   ]
  },
  {
   "cell_type": "code",
   "execution_count": 5,
   "metadata": {},
   "outputs": [
    {
     "data": {
      "text/plain": [
       "<matplotlib.axes._subplots.AxesSubplot at 0x17a9f004808>"
      ]
     },
     "execution_count": 5,
     "metadata": {},
     "output_type": "execute_result"
    },
    {
     "data": {
      "image/png": "[encoded data removed]",
      "text/plain": [
       "<Figure size 432x288 with 1 Axes>"
      ]
     },
     "metadata": {
      "needs_background": "light"
     },
     "output_type": "display_data"
    }
   ],
   "source": [
    "data.boxplot(column=data.columns[3] ,return_type='axes')"
   ]
  },
  {
   "cell_type": "code",
   "execution_count": null,
   "metadata": {},
   "outputs": [],
   "source": []
  }
 ],
 "metadata": {
  "kernelspec": {
   "display_name": "Python 3.7.4 64-bit ('cv': conda)",
   "language": "python",
   "name": "python37464bitcvcondaec938c6715e24b838a7529a387064b5f"
  },
  "language_info": {
   "codemirror_mode": {
    "name": "ipython",
    "version": 3
   },
   "file_extension": ".py",
   "mimetype": "text/x-python",
   "name": "python",
   "nbconvert_exporter": "python",
   "pygments_lexer": "ipython3",
   "version": "3.7.4"
  }
 },
 "nbformat": 4,
 "nbformat_minor": 4
}
