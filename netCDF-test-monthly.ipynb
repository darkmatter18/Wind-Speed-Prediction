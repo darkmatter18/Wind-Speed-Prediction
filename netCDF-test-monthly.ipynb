{
 "cells": [
  {
   "cell_type": "code",
   "execution_count": 1,
   "metadata": {},
   "outputs": [],
   "source": [
    "# Copyright 2020 Arkadip Bhattacharya\n",
    "\n",
    "#    Licensed under the Apache License, Version 2.0 (the \"License\");\n",
    "#    you may not use this file except in compliance with the License.\n",
    "#    You may obtain a copy of the License at\n",
    "\n",
    "#        http://www.apache.org/licenses/LICENSE-2.0\n",
    "\n",
    "#    Unless required by applicable law or agreed to in writing, software\n",
    "#    distributed under the License is distributed on an \"AS IS\" BASIS,\n",
    "#    WITHOUT WARRANTIES OR CONDITIONS OF ANY KIND, either express or implied.\n",
    "#    See the License for the specific language governing permissions and\n",
    "#    limitations under the License."
   ]
  },
  {
   "cell_type": "code",
   "execution_count": 1,
   "metadata": {},
   "outputs": [],
   "source": [
    "import netCDF4 as nc"
   ]
  },
  {
   "cell_type": "code",
   "execution_count": 2,
   "metadata": {},
   "outputs": [],
   "source": [
    "import numpy as np\n",
    "\n",
    "def getclosest_ij(lats,lons,latpt,lonpt):\n",
    "    # find squared distance of every point on grid\n",
    "    dist_sq = (lats-latpt)**2 + (lons-lonpt)**2  \n",
    "    # 1D index of minimum dist_sq element\n",
    "    minindex_flattened = dist_sq.argmin()    \n",
    "    # Get 2D index for latvals and lonvals arrays from 1D index\n",
    "    return np.unravel_index(minindex_flattened, lats.shape)"
   ]
  },
  {
   "cell_type": "code",
   "execution_count": 3,
   "metadata": {},
   "outputs": [
    {
     "name": "stdout",
     "output_type": "stream",
     "text": [
      "<class 'netCDF4._netCDF4.Dataset'>\n",
      "root group (NETCDF3_CLASSIC data model, file format NETCDF3):\n",
      "    CDI: Climate Data Interface version 1.7.0 (http://mpimet.mpg.de/cdi)\n",
      "    Conventions: CF-1.4\n",
      "    source: surface observations and cosmo_090213_4.8_clm17\n",
      "    institution: Deutscher Wetterdienst\n",
      "    title: FF monthly gridded dataset\n",
      "    project_id: TRY-advancement\n",
      "    realization: v1.0\n",
      "    contact: Stefan Kraehenmann, stefan.kraehenmann@dwd.de\n",
      "    creation_date: 2016-01-23 17:30:16\n",
      "    CDO: Climate Data Operators version 1.7.0 (http://mpimet.mpg.de/cdo)\n",
      "    history: Wed Jan 27 15:07:10 2016: ncatted -a history,global,d,c, FF_200503_mean.nc temp.nc\n",
      "    dimensions(sizes): x(720), y(938), time(1), bnds(2)\n",
      "    variables(dimensions): float64 lon(y,x), float64 lat(y,x), float64 time(time), float64 time_bnds(time,bnds), float64 datum(time), int16 FF(time,y,x)\n",
      "    groups: \n"
     ]
    }
   ],
   "source": [
    "f = nc.Dataset('./FF_200503_mean.nc')\n",
    "print(f)\n",
    "lon = f.variables['lon']\n",
    "lat = f.variables['lat']\n",
    "time = f.variables['time']\n",
    "time_bnds = f.variables['time_bnds']\n",
    "datum = f.variables['datum']\n",
    "FF = f.variables['FF']"
   ]
  },
  {
   "cell_type": "code",
   "execution_count": 4,
   "metadata": {},
   "outputs": [
    {
     "data": {
      "text/plain": [
       "<class 'netCDF4._netCDF4.Variable'>\n",
       "int16 FF(time, y, x)\n",
       "    standard_name: wind_speed\n",
       "    long_name: mean wind speed at 10 m height\n",
       "    units: m/s\n",
       "    coordinates: lat lon\n",
       "    add_offset: 0.0\n",
       "    scale_factor: 0.1\n",
       "    _FillValue: 9999\n",
       "    missing_value: 9999\n",
       "unlimited dimensions: time\n",
       "current shape = (1, 938, 720)\n",
       "filling on"
      ]
     },
     "execution_count": 4,
     "metadata": {},
     "output_type": "execute_result"
    }
   ],
   "source": [
    "FF"
   ]
  },
  {
   "cell_type": "code",
   "execution_count": 5,
   "metadata": {},
   "outputs": [
    {
     "data": {
      "text/plain": [
       "(619, 552)"
      ]
     },
     "execution_count": 5,
     "metadata": {},
     "output_type": "execute_result"
    }
   ],
   "source": [
    "getclosest_ij(lat[:], lon[:], 52.5246, 13.3946)"
   ]
  },
  {
   "cell_type": "code",
   "execution_count": 6,
   "metadata": {},
   "outputs": [
    {
     "data": {
      "text/plain": [
       "masked_array(data=52.5246,\n",
       "             mask=False,\n",
       "       fill_value=1e+20)"
      ]
     },
     "execution_count": 6,
     "metadata": {},
     "output_type": "execute_result"
    }
   ],
   "source": [
    "lat[619, 552]"
   ]
  },
  {
   "cell_type": "code",
   "execution_count": 7,
   "metadata": {},
   "outputs": [
    {
     "data": {
      "text/plain": [
       "masked_array(data=13.3946,\n",
       "             mask=False,\n",
       "       fill_value=1e+20)"
      ]
     },
     "execution_count": 7,
     "metadata": {},
     "output_type": "execute_result"
    }
   ],
   "source": [
    "lon[619, 552]"
   ]
  },
  {
   "cell_type": "code",
   "execution_count": 8,
   "metadata": {},
   "outputs": [
    {
     "data": {
      "text/plain": [
       "4.0"
      ]
     },
     "execution_count": 8,
     "metadata": {},
     "output_type": "execute_result"
    }
   ],
   "source": [
    "FF[0, 619, 552]"
   ]
  },
  {
   "cell_type": "code",
   "execution_count": 9,
   "metadata": {},
   "outputs": [],
   "source": [
    "f.close()"
   ]
  },
  {
   "cell_type": "code",
   "execution_count": 10,
   "metadata": {},
   "outputs": [
    {
     "name": "stdout",
     "output_type": "stream",
     "text": [
      "<class 'netCDF4._netCDF4.Dataset'>\n",
      "root group (NETCDF3_CLASSIC data model, file format NETCDF3):\n",
      "    CDI: Climate Data Interface version 1.6.9 (http://mpimet.mpg.de/cdi)\n",
      "    Conventions: CF-1.4\n",
      "    source: surface and satellite observations, cosmo_090213_4.8_clm17\n",
      "    institution: Deutscher Wetterdienst\n",
      "    title: Temperature monthly gridded dataset\n",
      "    project_id: TRY-advancement\n",
      "    realization: v1.0\n",
      "    contact: Stefan Kraehenmann, stefan.kraehenmann@dwd.de\n",
      "    creation_date: 2016-01-23 08:23:49\n",
      "    CDO: Climate Data Operators version 1.6.9 (http://mpimet.mpg.de/cdo)\n",
      "    history: Tue Jan 26 09:29:10 2016: ncatted -a history,global,d,c, TT_201212_mean.nc temp.nc\n",
      "    dimensions(sizes): x(720), y(938), time(1), bnds(2)\n",
      "    variables(dimensions): float64 lon(y,x), float64 lat(y,x), float64 time(time), float64 time_bnds(time,bnds), float64 datum(time), int16 temperature(time,y,x)\n",
      "    groups: \n"
     ]
    }
   ],
   "source": [
    "f = nc.Dataset('./TT_201212_mean.nc')\n",
    "print(f)"
   ]
  },
  {
   "cell_type": "code",
   "execution_count": 11,
   "metadata": {},
   "outputs": [],
   "source": [
    "lon = f.variables['lon']\n",
    "lat = f.variables['lat']\n",
    "temp = f.variables['temperature']"
   ]
  },
  {
   "cell_type": "code",
   "execution_count": 12,
   "metadata": {},
   "outputs": [
    {
     "data": {
      "text/plain": [
       "(619, 552)"
      ]
     },
     "execution_count": 12,
     "metadata": {},
     "output_type": "execute_result"
    }
   ],
   "source": [
    "getclosest_ij(lat[:], lon[:], 52.5246, 13.3946)"
   ]
  },
  {
   "cell_type": "code",
   "execution_count": 13,
   "metadata": {},
   "outputs": [
    {
     "data": {
      "text/plain": [
       "<class 'netCDF4._netCDF4.Variable'>\n",
       "int16 temperature(time, y, x)\n",
       "    standard_name: air_temperature\n",
       "    long_name: mean temperature at 2 m height\n",
       "    units: degC\n",
       "    coordinates: lon lat\n",
       "    add_offset: 0.0\n",
       "    scale_factor: 0.1\n",
       "    _FillValue: 9999\n",
       "    missing_value: 9999\n",
       "unlimited dimensions: time\n",
       "current shape = (1, 938, 720)\n",
       "filling on"
      ]
     },
     "execution_count": 13,
     "metadata": {},
     "output_type": "execute_result"
    }
   ],
   "source": [
    "temp"
   ]
  },
  {
   "cell_type": "code",
   "execution_count": 14,
   "metadata": {},
   "outputs": [
    {
     "data": {
      "text/plain": [
       "<class 'netCDF4._netCDF4.Variable'>\n",
       "float64 lat(y, x)\n",
       "    standard_name: latitude\n",
       "    long_name: latitude coordinate\n",
       "    units: degrees_north\n",
       "    _CoordinateAxisType: Lat\n",
       "unlimited dimensions: \n",
       "current shape = (938, 720)\n",
       "filling on, default _FillValue of 9.969209968386869e+36 used"
      ]
     },
     "execution_count": 14,
     "metadata": {},
     "output_type": "execute_result"
    }
   ],
   "source": [
    "lat"
   ]
  },
  {
   "cell_type": "code",
   "execution_count": 15,
   "metadata": {},
   "outputs": [
    {
     "data": {
      "text/plain": [
       "<class 'netCDF4._netCDF4.Variable'>\n",
       "float64 lon(y, x)\n",
       "    standard_name: longitude\n",
       "    long_name: longitude coordinate\n",
       "    units: degrees_east\n",
       "    _CoordinateAxisType: Lon\n",
       "unlimited dimensions: \n",
       "current shape = (938, 720)\n",
       "filling on, default _FillValue of 9.969209968386869e+36 used"
      ]
     },
     "execution_count": 15,
     "metadata": {},
     "output_type": "execute_result"
    }
   ],
   "source": [
    "lon"
   ]
  },
  {
   "cell_type": "code",
   "execution_count": 16,
   "metadata": {},
   "outputs": [
    {
     "data": {
      "text/plain": [
       "1.6"
      ]
     },
     "execution_count": 16,
     "metadata": {},
     "output_type": "execute_result"
    }
   ],
   "source": [
    "temp[0, 619, 552]"
   ]
  },
  {
   "cell_type": "code",
   "execution_count": 17,
   "metadata": {},
   "outputs": [],
   "source": [
    "f.close()"
   ]
  },
  {
   "cell_type": "code",
   "execution_count": 18,
   "metadata": {},
   "outputs": [
    {
     "name": "stdout",
     "output_type": "stream",
     "text": [
      "<class 'netCDF4._netCDF4.Dataset'>\n",
      "root group (NETCDF3_CLASSIC data model, file format NETCDF3):\n",
      "    CDI: Climate Data Interface version 1.6.1 (http://code.zmaw.de/projects/cdi)\n",
      "    Conventions: CF-1.4\n",
      "    source: surface observations\n",
      "    institution: Deutscher Wetterdienst\n",
      "    title: SLP monthly gridded dataset\n",
      "    project_id: TRY-advancement\n",
      "    realization: v1.0\n",
      "    contact: Stefan Kraehenmann, stefan.kraehenmann@dwd.de\n",
      "    creation_date: 2016-01-27 14:15:34\n",
      "    CDO: Climate Data Operators version 1.6.1 (http://code.zmaw.de/projects/cdo)\n",
      "    history: Wed Jan 27 17:25:54 2016: ncatted -a history,global,d,c, PRED_201212_mean.nc temp.nc\n",
      "    dimensions(sizes): x(720), y(938), time(1)\n",
      "    variables(dimensions): float64 lon(y,x), float64 lat(y,x), float64 time(time), float64 datum(time), float32 SLP(time,y,x)\n",
      "    groups: \n"
     ]
    }
   ],
   "source": [
    "f = nc.Dataset('./PRED_201212_mean.nc')\n",
    "print(f)"
   ]
  },
  {
   "cell_type": "code",
   "execution_count": 19,
   "metadata": {},
   "outputs": [],
   "source": [
    "lon = f.variables['lon']\n",
    "lat = f.variables['lat']\n",
    "SLP = f.variables['SLP']"
   ]
  },
  {
   "cell_type": "code",
   "execution_count": 20,
   "metadata": {},
   "outputs": [
    {
     "data": {
      "text/plain": [
       "<class 'netCDF4._netCDF4.Variable'>\n",
       "float32 SLP(time, y, x)\n",
       "    long_name: mean air pressure at sea level\n",
       "    units: hPa\n",
       "    coordinates: lon lat\n",
       "    _FillValue: 1e+30\n",
       "    missing_value: 1e+30\n",
       "    standard_neame: air_pressure_at_sea_level\n",
       "unlimited dimensions: time\n",
       "current shape = (1, 938, 720)\n",
       "filling on"
      ]
     },
     "execution_count": 20,
     "metadata": {},
     "output_type": "execute_result"
    }
   ],
   "source": [
    "SLP"
   ]
  },
  {
   "cell_type": "code",
   "execution_count": 21,
   "metadata": {},
   "outputs": [
    {
     "data": {
      "text/plain": [
       "<class 'netCDF4._netCDF4.Variable'>\n",
       "float64 lat(y, x)\n",
       "    standard_name: latitude\n",
       "    long_name: latitude coordinate\n",
       "    units: degrees_north\n",
       "    _CoordinateAxisType: Lat\n",
       "unlimited dimensions: \n",
       "current shape = (938, 720)\n",
       "filling on, default _FillValue of 9.969209968386869e+36 used"
      ]
     },
     "execution_count": 21,
     "metadata": {},
     "output_type": "execute_result"
    }
   ],
   "source": [
    "lat"
   ]
  },
  {
   "cell_type": "code",
   "execution_count": 22,
   "metadata": {},
   "outputs": [
    {
     "data": {
      "text/plain": [
       "<class 'netCDF4._netCDF4.Variable'>\n",
       "float64 lon(y, x)\n",
       "    standard_name: longitude\n",
       "    long_name: longitude coordinate\n",
       "    units: degrees_east\n",
       "    _CoordinateAxisType: Lon\n",
       "unlimited dimensions: \n",
       "current shape = (938, 720)\n",
       "filling on, default _FillValue of 9.969209968386869e+36 used"
      ]
     },
     "execution_count": 22,
     "metadata": {},
     "output_type": "execute_result"
    }
   ],
   "source": [
    "lon"
   ]
  },
  {
   "cell_type": "code",
   "execution_count": 23,
   "metadata": {},
   "outputs": [
    {
     "data": {
      "text/plain": [
       "(619, 552)"
      ]
     },
     "execution_count": 23,
     "metadata": {},
     "output_type": "execute_result"
    }
   ],
   "source": [
    "getclosest_ij(lat[:], lon[:], 52.5246, 13.3946)"
   ]
  },
  {
   "cell_type": "code",
   "execution_count": 24,
   "metadata": {},
   "outputs": [
    {
     "data": {
      "text/plain": [
       "masked_array(data=1011.4583,\n",
       "             mask=False,\n",
       "       fill_value=1e+20,\n",
       "            dtype=float32)"
      ]
     },
     "execution_count": 24,
     "metadata": {},
     "output_type": "execute_result"
    }
   ],
   "source": [
    "SLP[0,619,552]"
   ]
  },
  {
   "cell_type": "code",
   "execution_count": 25,
   "metadata": {},
   "outputs": [],
   "source": [
    "f.close()"
   ]
  },
  {
   "cell_type": "code",
   "execution_count": 26,
   "metadata": {},
   "outputs": [
    {
     "name": "stdout",
     "output_type": "stream",
     "text": [
      "<class 'netCDF4._netCDF4.Dataset'>\n",
      "root group (NETCDF3_CLASSIC data model, file format NETCDF3):\n",
      "    CDI: Climate Data Interface version 1.6.8 (http://mpimet.mpg.de/cdi)\n",
      "    Conventions: CF-1.4\n",
      "    title: DD monthly gridded dataset\n",
      "    source: surface observations and cosmo_090213_4.8_clm17\n",
      "    institution: Deutscher Wetterdienst\n",
      "    project_id: TRY-advancement\n",
      "    realization: v1.0\n",
      "    contact: Stefan Kraehenmann, stefan.kraehenmann@dwd.de\n",
      "    creation_date: 2016-11-28 13:30:44\n",
      "    dimensions(sizes): X(720), Y(938), time(1)\n",
      "    variables(dimensions): |S1 Lambert_Conformal(), int32 X(X), int32 Y(Y), float64 lon(Y,X), float64 lat(Y,X), float64 time(time), float64 DD(time,Y,X)\n",
      "    groups: \n"
     ]
    }
   ],
   "source": [
    "f = nc.Dataset('./DD_201212_mean.nc')\n",
    "print(f)"
   ]
  },
  {
   "cell_type": "code",
   "execution_count": 27,
   "metadata": {},
   "outputs": [],
   "source": [
    "lon = f.variables['lon']\n",
    "lat = f.variables['lat']\n",
    "DD = f.variables['DD']"
   ]
  },
  {
   "cell_type": "code",
   "execution_count": 28,
   "metadata": {},
   "outputs": [
    {
     "data": {
      "text/plain": [
       "<class 'netCDF4._netCDF4.Variable'>\n",
       "float64 DD(time, Y, X)\n",
       "    units: deg\n",
       "    _FillValue: 9999.0\n",
       "    long_name: wind direction in 10 m height\n",
       "    scale_factor: 1.0\n",
       "    coordinates: lat lon\n",
       "    grid_mapping: Lambert_Conformal\n",
       "unlimited dimensions: time\n",
       "current shape = (1, 938, 720)\n",
       "filling on"
      ]
     },
     "execution_count": 28,
     "metadata": {},
     "output_type": "execute_result"
    }
   ],
   "source": [
    "DD"
   ]
  },
  {
   "cell_type": "code",
   "execution_count": 29,
   "metadata": {},
   "outputs": [
    {
     "data": {
      "text/plain": [
       "<class 'netCDF4._netCDF4.Variable'>\n",
       "float64 lat(Y, X)\n",
       "    units: degrees_north\n",
       "    _FillValue: 9999.0\n",
       "    long_name: latitude coordinate\n",
       "unlimited dimensions: \n",
       "current shape = (938, 720)\n",
       "filling on"
      ]
     },
     "execution_count": 29,
     "metadata": {},
     "output_type": "execute_result"
    }
   ],
   "source": [
    "lat"
   ]
  },
  {
   "cell_type": "code",
   "execution_count": 30,
   "metadata": {},
   "outputs": [
    {
     "data": {
      "text/plain": [
       "<class 'netCDF4._netCDF4.Variable'>\n",
       "float64 lon(Y, X)\n",
       "    units: degrees_east\n",
       "    _FillValue: 9999.0\n",
       "    long_name: longitude coordinate\n",
       "unlimited dimensions: \n",
       "current shape = (938, 720)\n",
       "filling on"
      ]
     },
     "execution_count": 30,
     "metadata": {},
     "output_type": "execute_result"
    }
   ],
   "source": [
    "lon"
   ]
  },
  {
   "cell_type": "code",
   "execution_count": 31,
   "metadata": {},
   "outputs": [
    {
     "data": {
      "text/plain": [
       "(619, 552)"
      ]
     },
     "execution_count": 31,
     "metadata": {},
     "output_type": "execute_result"
    }
   ],
   "source": [
    "getclosest_ij(lat[:], lon[:], 52.5246, 13.3946)"
   ]
  },
  {
   "cell_type": "code",
   "execution_count": 38,
   "metadata": {},
   "outputs": [
    {
     "data": {
      "text/plain": [
       "masked_array(data=208.,\n",
       "             mask=False,\n",
       "       fill_value=1e+20)"
      ]
     },
     "execution_count": 38,
     "metadata": {},
     "output_type": "execute_result"
    }
   ],
   "source": [
    "DD[0, 619, 552]"
   ]
  },
  {
   "cell_type": "code",
   "execution_count": 36,
   "metadata": {},
   "outputs": [],
   "source": [
    "import numpy.ma as ma"
   ]
  },
  {
   "cell_type": "code",
   "execution_count": 40,
   "metadata": {},
   "outputs": [
    {
     "data": {
      "text/plain": [
       "array(208.)"
      ]
     },
     "execution_count": 40,
     "metadata": {},
     "output_type": "execute_result"
    }
   ],
   "source": [
    "ma.getdata(DD[0, 619, 552])"
   ]
  },
  {
   "cell_type": "code",
   "execution_count": 42,
   "metadata": {},
   "outputs": [
    {
     "data": {
      "text/plain": [
       "208.0"
      ]
     },
     "execution_count": 42,
     "metadata": {},
     "output_type": "execute_result"
    }
   ],
   "source": [
    "float(DD[0, 619, 552].data)"
   ]
  },
  {
   "cell_type": "code",
   "execution_count": null,
   "metadata": {},
   "outputs": [],
   "source": []
  }
 ],
 "metadata": {
  "kernelspec": {
   "display_name": "Python 3",
   "language": "python",
   "name": "python3"
  },
  "language_info": {
   "codemirror_mode": {
    "name": "ipython",
    "version": 3
   },
   "file_extension": ".py",
   "mimetype": "text/x-python",
   "name": "python",
   "nbconvert_exporter": "python",
   "pygments_lexer": "ipython3",
   "version": "3.7.4"
  }
 },
 "nbformat": 4,
 "nbformat_minor": 2
}
