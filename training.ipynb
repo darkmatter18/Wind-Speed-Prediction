{
 "cells": [
  {
   "cell_type": "code",
   "execution_count": null,
   "metadata": {},
   "outputs": [],
   "source": [
    "#    Copyright 2020 Arkadip Bhattacharya\n",
    "\n",
    "#    Licensed under the Apache License, Version 2.0 (the \"License\");\n",
    "#    you may not use this file except in compliance with the License.\n",
    "#    You may obtain a copy of the License at\n",
    "\n",
    "#        http://www.apache.org/licenses/LICENSE-2.0\n",
    "\n",
    "#    Unless required by applicable law or agreed to in writing, software\n",
    "#    distributed under the License is distributed on an \"AS IS\" BASIS,\n",
    "#    WITHOUT WARRANTIES OR CONDITIONS OF ANY KIND, either express or implied.\n",
    "#    See the License for the specific language governing permissions and\n",
    "#    limitations under the License."
   ]
  },
  {
   "cell_type": "code",
   "execution_count": 1,
   "metadata": {},
   "outputs": [],
   "source": [
    "%matplotlib qt\n",
    "\n",
    "%load_ext autoreload\n",
    "%autoreload 2\n",
    "\n",
    "import torch\n",
    "import numpy as np\n",
    "import pandas as pd\n",
    "import matplotlib.pyplot as plt\n",
    "from torch.utils.data import dataloader\n",
    "from sklearn.model_selection import train_test_split\n",
    "from preprocessing import Normalize_df, WindSpeedDataset, ComposeTransform, ToTensor"
   ]
  },
  {
   "cell_type": "code",
   "execution_count": 2,
   "metadata": {},
   "outputs": [
    {
     "data": {
      "text/html": [
       "<div>\n",
       "<style scoped>\n",
       "    .dataframe tbody tr th:only-of-type {\n",
       "        vertical-align: middle;\n",
       "    }\n",
       "\n",
       "    .dataframe tbody tr th {\n",
       "        vertical-align: top;\n",
       "    }\n",
       "\n",
       "    .dataframe thead th {\n",
       "        text-align: right;\n",
       "    }\n",
       "</style>\n",
       "<table border=\"1\" class=\"dataframe\">\n",
       "  <thead>\n",
       "    <tr style=\"text-align: right;\">\n",
       "      <th></th>\n",
       "      <th>time</th>\n",
       "      <th>air_temperature_mean</th>\n",
       "      <th>pressure</th>\n",
       "      <th>wind_direction</th>\n",
       "      <th>wind_speed</th>\n",
       "    </tr>\n",
       "  </thead>\n",
       "  <tbody>\n",
       "    <tr>\n",
       "      <td>0</td>\n",
       "      <td>0.000000</td>\n",
       "      <td>0.370203</td>\n",
       "      <td>0.103164</td>\n",
       "      <td>0.732591</td>\n",
       "      <td>0.625000</td>\n",
       "    </tr>\n",
       "    <tr>\n",
       "      <td>1</td>\n",
       "      <td>0.000011</td>\n",
       "      <td>0.322799</td>\n",
       "      <td>0.268912</td>\n",
       "      <td>0.838440</td>\n",
       "      <td>0.354167</td>\n",
       "    </tr>\n",
       "    <tr>\n",
       "      <td>2</td>\n",
       "      <td>0.000022</td>\n",
       "      <td>0.302483</td>\n",
       "      <td>0.709078</td>\n",
       "      <td>0.988858</td>\n",
       "      <td>0.260417</td>\n",
       "    </tr>\n",
       "    <tr>\n",
       "      <td>3</td>\n",
       "      <td>0.000033</td>\n",
       "      <td>0.246050</td>\n",
       "      <td>0.850758</td>\n",
       "      <td>0.239554</td>\n",
       "      <td>0.093750</td>\n",
       "    </tr>\n",
       "    <tr>\n",
       "      <td>4</td>\n",
       "      <td>0.000044</td>\n",
       "      <td>0.194131</td>\n",
       "      <td>0.827372</td>\n",
       "      <td>0.345404</td>\n",
       "      <td>0.291667</td>\n",
       "    </tr>\n",
       "  </tbody>\n",
       "</table>\n",
       "</div>"
      ],
      "text/plain": [
       "       time  air_temperature_mean  pressure  wind_direction  wind_speed\n",
       "0  0.000000              0.370203  0.103164        0.732591    0.625000\n",
       "1  0.000011              0.322799  0.268912        0.838440    0.354167\n",
       "2  0.000022              0.302483  0.709078        0.988858    0.260417\n",
       "3  0.000033              0.246050  0.850758        0.239554    0.093750\n",
       "4  0.000044              0.194131  0.827372        0.345404    0.291667"
      ]
     },
     "execution_count": 2,
     "metadata": {},
     "output_type": "execute_result"
    }
   ],
   "source": [
    "dataset = Normalize_df(pd.read_csv('./dataset-daily.csv'))\n",
    "dataset.head()"
   ]
  },
  {
   "cell_type": "code",
   "execution_count": 3,
   "metadata": {},
   "outputs": [],
   "source": [
    "trainset, testset = train_test_split(dataset, test_size = 0.1)\n",
    "trainset, valset = train_test_split(trainset, test_size = 0.1)"
   ]
  },
  {
   "cell_type": "code",
   "execution_count": 4,
   "metadata": {},
   "outputs": [
    {
     "data": {
      "text/plain": [
       "time                    0.117590\n",
       "air_temperature_mean    0.751693\n",
       "pressure                0.616231\n",
       "wind_direction          0.030641\n",
       "wind_speed              0.114583\n",
       "Name: 594, dtype: float64"
      ]
     },
     "execution_count": 4,
     "metadata": {},
     "output_type": "execute_result"
    }
   ],
   "source": [
    "trainset.iloc[0]"
   ]
  },
  {
   "cell_type": "code",
   "execution_count": 5,
   "metadata": {},
   "outputs": [],
   "source": [
    "train_dataset = WindSpeedDataset(trainset,transform=ComposeTransform([ToTensor()]))\n",
    "test_dataset = WindSpeedDataset(testset, transform=ComposeTransform([ToTensor()]))\n",
    "val_dataset = WindSpeedDataset(valset, transform=ComposeTransform([ToTensor()]))"
   ]
  },
  {
   "cell_type": "code",
   "execution_count": 6,
   "metadata": {},
   "outputs": [
    {
     "data": {
      "text/plain": [
       "(tensor([0.7517, 0.6162, 0.0306], dtype=torch.float64),\n",
       " tensor([0.1146], dtype=torch.float64))"
      ]
     },
     "execution_count": 6,
     "metadata": {},
     "output_type": "execute_result"
    }
   ],
   "source": [
    "train_dataset[0]"
   ]
  },
  {
   "cell_type": "code",
   "execution_count": 7,
   "metadata": {},
   "outputs": [],
   "source": [
    "batch_size = 128\n",
    "\n",
    "trainloader = dataloader.DataLoader(train_dataset, batch_size, shuffle = True)\n",
    "valloader = dataloader.DataLoader(val_dataset, batch_size, shuffle = False)\n",
    "testloader = dataloader.DataLoader(test_dataset, batch_size, shuffle = False)"
   ]
  },
  {
   "cell_type": "code",
   "execution_count": 8,
   "metadata": {},
   "outputs": [
    {
     "name": "stdout",
     "output_type": "stream",
     "text": [
      "Device Count: 1\n",
      "Device: GeForce 940MX\n",
      "Device Capability: (5, 0)\n"
     ]
    }
   ],
   "source": [
    "cuda = torch.cuda.is_available()\n",
    "device = torch.device('cuda') if cuda else torch.device('cpu')\n",
    "if cuda:\n",
    "    print(\"Device Count:\", torch.cuda.device_count())\n",
    "    print(\"Device:\", torch.cuda.get_device_name())\n",
    "    print(\"Device Capability:\", torch.cuda.get_device_capability())"
   ]
  },
  {
   "cell_type": "code",
   "execution_count": 9,
   "metadata": {},
   "outputs": [
    {
     "name": "stdout",
     "output_type": "stream",
     "text": [
      "Model(\n",
      "  (fc1): Linear(in_features=3, out_features=30, bias=True)\n",
      "  (fc2): Linear(in_features=30, out_features=1, bias=True)\n",
      ")\n"
     ]
    }
   ],
   "source": [
    "from model import Model\n",
    "model = Model()\n",
    "model.to(device)\n",
    "print(model)"
   ]
  },
  {
   "cell_type": "code",
   "execution_count": 10,
   "metadata": {},
   "outputs": [
    {
     "name": "stdout",
     "output_type": "stream",
     "text": [
      "Epoch: 1 Batch: 0 out of 24 Training Loss: 0.00472859541575114 Test Loss: 0.10324156284332275\n",
      "Epoch: 1 Batch: 1 out of 24 Training Loss: 0.10025831560293834 Test Loss: 0.10324156284332275\n",
      "Epoch: 1 Batch: 2 out of 24 Training Loss: 0.1970897341767947 Test Loss: 0.10324156284332275\n",
      "Epoch: 1 Batch: 3 out of 24 Training Loss: 0.26462064186731976 Test Loss: 0.10324156284332275\n",
      "Epoch: 1 Batch: 4 out of 24 Training Loss: 0.3408873478571574 Test Loss: 0.10324156284332275\n",
      "Epoch: 1 Batch: 5 out of 24 Training Loss: 0.4142983208100001 Test Loss: 0.10324156284332275\n",
      "Epoch: 1 Batch: 6 out of 24 Training Loss: 0.46680030102531117 Test Loss: 0.10324156284332275\n",
      "Epoch: 1 Batch: 7 out of 24 Training Loss: 0.5251568319896858 Test Loss: 0.10324156284332275\n",
      "Epoch: 1 Batch: 8 out of 24 Training Loss: 0.5671377244095008 Test Loss: 0.10324156284332275\n",
      "Epoch: 1 Batch: 9 out of 24 Training Loss: 0.6168543348709743 Test Loss: 0.10324156284332275\n",
      "Epoch: 1 Batch: 10 out of 24 Training Loss: 0.6485202858845394 Test Loss: 0.10324156284332275\n",
      "Epoch: 1 Batch: 11 out of 24 Training Loss: 0.6885204116503398 Test Loss: 0.10324156284332275\n",
      "Epoch: 1 Batch: 12 out of 24 Training Loss: 0.7216833295921485 Test Loss: 0.10324156284332275\n",
      "Epoch: 1 Batch: 13 out of 24 Training Loss: 0.7552903021375339 Test Loss: 0.10324156284332275\n",
      "Epoch: 1 Batch: 14 out of 24 Training Loss: 0.787050190071265 Test Loss: 0.10324156284332275\n",
      "Epoch: 1 Batch: 15 out of 24 Training Loss: 0.8112686115006607 Test Loss: 0.10324156284332275\n",
      "Epoch: 1 Batch: 16 out of 24 Training Loss: 0.839340681831042 Test Loss: 0.10324156284332275\n",
      "Epoch: 1 Batch: 17 out of 24 Training Loss: 0.8742114740113418 Test Loss: 0.10324156284332275\n",
      "Epoch: 1 Batch: 18 out of 24 Training Loss: 0.8959948165963094 Test Loss: 0.10324156284332275\n",
      "Epoch: 1 Batch: 19 out of 24 Training Loss: 0.9205260692785184 Test Loss: 0.10324156284332275\n",
      "Epoch: 1 Batch: 20 out of 24 Training Loss: 0.039869144119115345 Test Loss: 0.030464486529429752\n",
      "Epoch: 1 Batch: 21 out of 24 Training Loss: 0.06349909634122419 Test Loss: 0.030464486529429752\n",
      "Epoch: 1 Batch: 22 out of 24 Training Loss: 0.08519492254385519 Test Loss: 0.030464486529429752\n",
      "Epoch: 1 Batch: 23 out of 24 Training Loss: 0.10274376862475443 Test Loss: 0.030464486529429752\n",
      "Epoch: 2 Batch: 0 out of 24 Training Loss: 0.0010743959185977776 Test Loss: 0.028789566208918888\n",
      "Epoch: 2 Batch: 1 out of 24 Training Loss: 0.030790524402012426 Test Loss: 0.028789566208918888\n",
      "Epoch: 2 Batch: 2 out of 24 Training Loss: 0.056273953833927706 Test Loss: 0.028789566208918888\n",
      "Epoch: 2 Batch: 3 out of 24 Training Loss: 0.07262006200229128 Test Loss: 0.028789566208918888\n",
      "Epoch: 2 Batch: 4 out of 24 Training Loss: 0.09171139619623621 Test Loss: 0.028789566208918888\n",
      "Epoch: 2 Batch: 5 out of 24 Training Loss: 0.11648394524430235 Test Loss: 0.028789566208918888\n",
      "Epoch: 2 Batch: 6 out of 24 Training Loss: 0.13574119641756016 Test Loss: 0.028789566208918888\n",
      "Epoch: 2 Batch: 7 out of 24 Training Loss: 0.16129612907146412 Test Loss: 0.028789566208918888\n",
      "Epoch: 2 Batch: 8 out of 24 Training Loss: 0.1868455427077909 Test Loss: 0.028789566208918888\n",
      "Epoch: 2 Batch: 9 out of 24 Training Loss: 0.20918509162341553 Test Loss: 0.028789566208918888\n",
      "Epoch: 2 Batch: 10 out of 24 Training Loss: 0.23509393803154427 Test Loss: 0.028789566208918888\n",
      "Epoch: 2 Batch: 11 out of 24 Training Loss: 0.2592019753841062 Test Loss: 0.028789566208918888\n",
      "Epoch: 2 Batch: 12 out of 24 Training Loss: 0.28165335006391007 Test Loss: 0.028789566208918888\n",
      "Epoch: 2 Batch: 13 out of 24 Training Loss: 0.30112817309175927 Test Loss: 0.028789566208918888\n",
      "Epoch: 2 Batch: 14 out of 24 Training Loss: 0.3269443547663589 Test Loss: 0.028789566208918888\n",
      "Epoch: 2 Batch: 15 out of 24 Training Loss: 0.3571559170571466 Test Loss: 0.028789566208918888\n",
      "Epoch: 2 Batch: 16 out of 24 Training Loss: 0.38117363102113205 Test Loss: 0.028789566208918888\n",
      "Epoch: 2 Batch: 17 out of 24 Training Loss: 0.4046375042138 Test Loss: 0.028789566208918888\n",
      "Epoch: 2 Batch: 18 out of 24 Training Loss: 0.42710637285684544 Test Loss: 0.028789566208918888\n",
      "Epoch: 2 Batch: 19 out of 24 Training Loss: 0.44739856927966076 Test Loss: 0.028789566208918888\n",
      "Epoch: 2 Batch: 20 out of 24 Training Loss: 0.019631468762074493 Test Loss: 0.02638276480138302\n",
      "Epoch: 2 Batch: 21 out of 24 Training Loss: 0.042078617100034736 Test Loss: 0.02638276480138302\n",
      "Epoch: 2 Batch: 22 out of 24 Training Loss: 0.06578285161069491 Test Loss: 0.02638276480138302\n",
      "Epoch: 2 Batch: 23 out of 24 Training Loss: 0.07613838843664983 Test Loss: 0.02638276480138302\n",
      "Epoch: 3 Batch: 0 out of 24 Training Loss: 0.0007853267403940359 Test Loss: 0.026443805545568466\n",
      "Epoch: 3 Batch: 1 out of 24 Training Loss: 0.022702107361207407 Test Loss: 0.026443805545568466\n",
      "Epoch: 3 Batch: 2 out of 24 Training Loss: 0.04460647158945601 Test Loss: 0.026443805545568466\n",
      "Epoch: 3 Batch: 3 out of 24 Training Loss: 0.0661394336881737 Test Loss: 0.026443805545568466\n",
      "Epoch: 3 Batch: 4 out of 24 Training Loss: 0.08849197269106905 Test Loss: 0.026443805545568466\n",
      "Epoch: 3 Batch: 5 out of 24 Training Loss: 0.10877787337327997 Test Loss: 0.026443805545568466\n",
      "Epoch: 3 Batch: 6 out of 24 Training Loss: 0.13137944803262752 Test Loss: 0.026443805545568466\n",
      "Epoch: 3 Batch: 7 out of 24 Training Loss: 0.15586778909588855 Test Loss: 0.026443805545568466\n",
      "Epoch: 3 Batch: 8 out of 24 Training Loss: 0.18481820278490585 Test Loss: 0.026443805545568466\n",
      "Epoch: 3 Batch: 9 out of 24 Training Loss: 0.20396100186432403 Test Loss: 0.026443805545568466\n",
      "Epoch: 3 Batch: 10 out of 24 Training Loss: 0.22535577245677513 Test Loss: 0.026443805545568466\n",
      "Epoch: 3 Batch: 11 out of 24 Training Loss: 0.2540808675500254 Test Loss: 0.026443805545568466\n",
      "Epoch: 3 Batch: 12 out of 24 Training Loss: 0.27315871060515445 Test Loss: 0.026443805545568466\n",
      "Epoch: 3 Batch: 13 out of 24 Training Loss: 0.2925550473543505 Test Loss: 0.026443805545568466\n",
      "Epoch: 3 Batch: 14 out of 24 Training Loss: 0.3145373278918366 Test Loss: 0.026443805545568466\n",
      "Epoch: 3 Batch: 15 out of 24 Training Loss: 0.33436049909020465 Test Loss: 0.026443805545568466\n",
      "Epoch: 3 Batch: 16 out of 24 Training Loss: 0.36520383895064396 Test Loss: 0.026443805545568466\n",
      "Epoch: 3 Batch: 17 out of 24 Training Loss: 0.38900055379296344 Test Loss: 0.026443805545568466\n",
      "Epoch: 3 Batch: 18 out of 24 Training Loss: 0.40894763932252925 Test Loss: 0.026443805545568466\n",
      "Epoch: 3 Batch: 19 out of 24 Training Loss: 0.4314487131002049 Test Loss: 0.026443805545568466\n",
      "Epoch: 3 Batch: 20 out of 24 Training Loss: 0.018892865944912452 Test Loss: 0.025916799282034237\n",
      "Epoch: 3 Batch: 21 out of 24 Training Loss: 0.039523579497149006 Test Loss: 0.025916799282034237\n",
      "Epoch: 3 Batch: 22 out of 24 Training Loss: 0.06753462770979644 Test Loss: 0.025916799282034237\n",
      "Epoch: 3 Batch: 23 out of 24 Training Loss: 0.08950661154489757 Test Loss: 0.025916799282034237\n",
      "Epoch: 4 Batch: 0 out of 24 Training Loss: 0.0009610965692748626 Test Loss: 0.025876230870683987\n",
      "Epoch: 4 Batch: 1 out of 24 Training Loss: 0.019385225682829816 Test Loss: 0.025876230870683987\n",
      "Epoch: 4 Batch: 2 out of 24 Training Loss: 0.04036818033394714 Test Loss: 0.025876230870683987\n",
      "Epoch: 4 Batch: 3 out of 24 Training Loss: 0.06430771908101936 Test Loss: 0.025876230870683987\n",
      "Epoch: 4 Batch: 4 out of 24 Training Loss: 0.08332624992666145 Test Loss: 0.025876230870683987\n",
      "Epoch: 4 Batch: 5 out of 24 Training Loss: 0.10975306628582378 Test Loss: 0.025876230870683987\n",
      "Epoch: 4 Batch: 6 out of 24 Training Loss: 0.12643382473227877 Test Loss: 0.025876230870683987\n",
      "Epoch: 4 Batch: 7 out of 24 Training Loss: 0.1536669503742208 Test Loss: 0.025876230870683987\n",
      "Epoch: 4 Batch: 8 out of 24 Training Loss: 0.1729248665117969 Test Loss: 0.025876230870683987\n",
      "Epoch: 4 Batch: 9 out of 24 Training Loss: 0.1936895061129083 Test Loss: 0.025876230870683987\n",
      "Epoch: 4 Batch: 10 out of 24 Training Loss: 0.21577449104127783 Test Loss: 0.025876230870683987\n",
      "Epoch: 4 Batch: 11 out of 24 Training Loss: 0.23862529134688276 Test Loss: 0.025876230870683987\n",
      "Epoch: 4 Batch: 12 out of 24 Training Loss: 0.2588726240986337 Test Loss: 0.025876230870683987\n",
      "Epoch: 4 Batch: 13 out of 24 Training Loss: 0.2863473888331403 Test Loss: 0.025876230870683987\n",
      "Epoch: 4 Batch: 14 out of 24 Training Loss: 0.3061533901685228 Test Loss: 0.025876230870683987\n",
      "Epoch: 4 Batch: 15 out of 24 Training Loss: 0.32805050125656027 Test Loss: 0.025876230870683987\n",
      "Epoch: 4 Batch: 16 out of 24 Training Loss: 0.35025282165346044 Test Loss: 0.025876230870683987\n",
      "Epoch: 4 Batch: 17 out of 24 Training Loss: 0.37179921901163954 Test Loss: 0.025876230870683987\n",
      "Epoch: 4 Batch: 18 out of 24 Training Loss: 0.3942161794596662 Test Loss: 0.025876230870683987\n",
      "Epoch: 4 Batch: 19 out of 24 Training Loss: 0.41708777433571714 Test Loss: 0.025876230870683987\n",
      "Epoch: 4 Batch: 20 out of 24 Training Loss: 0.01856459481576975 Test Loss: 0.02559218741953373\n"
     ]
    },
    {
     "name": "stdout",
     "output_type": "stream",
     "text": [
      "Epoch: 4 Batch: 21 out of 24 Training Loss: 0.04083485705713327 Test Loss: 0.02559218741953373\n",
      "Epoch: 4 Batch: 22 out of 24 Training Loss: 0.06286936802724893 Test Loss: 0.02559218741953373\n",
      "Epoch: 4 Batch: 23 out of 24 Training Loss: 0.08609573906222875 Test Loss: 0.02559218741953373\n",
      "Epoch: 5 Batch: 0 out of 24 Training Loss: 0.0009884803245464961 Test Loss: 0.02551831987996896\n",
      "Epoch: 5 Batch: 1 out of 24 Training Loss: 0.022602616498867672 Test Loss: 0.02551831987996896\n",
      "Epoch: 5 Batch: 2 out of 24 Training Loss: 0.04192670310537021 Test Loss: 0.02551831987996896\n",
      "Epoch: 5 Batch: 3 out of 24 Training Loss: 0.06283152351776759 Test Loss: 0.02551831987996896\n",
      "Epoch: 5 Batch: 4 out of 24 Training Loss: 0.0902324231962363 Test Loss: 0.02551831987996896\n",
      "Epoch: 5 Batch: 5 out of 24 Training Loss: 0.1116514119009177 Test Loss: 0.02551831987996896\n",
      "Epoch: 5 Batch: 6 out of 24 Training Loss: 0.1325323699663083 Test Loss: 0.02551831987996896\n",
      "Epoch: 5 Batch: 7 out of 24 Training Loss: 0.15723712804416817 Test Loss: 0.02551831987996896\n",
      "Epoch: 5 Batch: 8 out of 24 Training Loss: 0.18487574408451718 Test Loss: 0.02551831987996896\n",
      "Epoch: 5 Batch: 9 out of 24 Training Loss: 0.20899124319354695 Test Loss: 0.02551831987996896\n",
      "Epoch: 5 Batch: 10 out of 24 Training Loss: 0.22866858604053658 Test Loss: 0.02551831987996896\n",
      "Epoch: 5 Batch: 11 out of 24 Training Loss: 0.2512502937267224 Test Loss: 0.02551831987996896\n",
      "Epoch: 5 Batch: 12 out of 24 Training Loss: 0.2719293876240651 Test Loss: 0.02551831987996896\n",
      "Epoch: 5 Batch: 13 out of 24 Training Loss: 0.28919713633755845 Test Loss: 0.02551831987996896\n",
      "Epoch: 5 Batch: 14 out of 24 Training Loss: 0.3138356531659762 Test Loss: 0.02551831987996896\n",
      "Epoch: 5 Batch: 15 out of 24 Training Loss: 0.336308969805638 Test Loss: 0.02551831987996896\n",
      "Epoch: 5 Batch: 16 out of 24 Training Loss: 0.355834952245156 Test Loss: 0.02551831987996896\n",
      "Epoch: 5 Batch: 17 out of 24 Training Loss: 0.3778160574535529 Test Loss: 0.02551831987996896\n",
      "Epoch: 5 Batch: 18 out of 24 Training Loss: 0.39668741325537366 Test Loss: 0.02551831987996896\n",
      "Epoch: 5 Batch: 19 out of 24 Training Loss: 0.42156723390022915 Test Loss: 0.02551831987996896\n",
      "Epoch: 5 Batch: 20 out of 24 Training Loss: 0.018463933788653877 Test Loss: 0.02530667620400588\n",
      "Epoch: 5 Batch: 21 out of 24 Training Loss: 0.03794624092471269 Test Loss: 0.02530667620400588\n",
      "Epoch: 5 Batch: 22 out of 24 Training Loss: 0.059849780001160174 Test Loss: 0.02530667620400588\n",
      "Epoch: 5 Batch: 23 out of 24 Training Loss: 0.06499859080132511 Test Loss: 0.02530667620400588\n"
     ]
    }
   ],
   "source": [
    "from torch.optim import SGD\n",
    "from torch.nn import MSELoss\n",
    "\n",
    "trainlosses, testlosses = model.fit(trainloader = trainloader,\n",
    "                                     validationloader = valloader,\n",
    "                                     loss = MSELoss,\n",
    "                                     optim = SGD,\n",
    "                                     lr=0.01,\n",
    "                                     epochs = 5,\n",
    "                                     val_per_batch = 20,\n",
    "                                     cuda = cuda)"
   ]
  },
  {
   "cell_type": "code",
   "execution_count": 11,
   "metadata": {},
   "outputs": [],
   "source": [
    "plt.plot(trainlosses, label = 'Training Losses')\n",
    "plt.plot(testlosses, label = 'Testing Losses')\n",
    "plt.ylabel('Losses')\n",
    "plt.xlabel('Batch * Epoch')\n",
    "plt.legend()\n",
    "plt.title('Losses Graph')\n",
    "plt.show()"
   ]
  },
  {
   "cell_type": "code",
   "execution_count": 12,
   "metadata": {},
   "outputs": [],
   "source": [
    "result, expected = model.test(testloader, cuda=cuda)"
   ]
  },
  {
   "cell_type": "code",
   "execution_count": 13,
   "metadata": {},
   "outputs": [],
   "source": [
    "val_from = 0\n",
    "val_to = 20\n",
    "\n",
    "plt.plot(result[val_from:val_to], label = 'Result')\n",
    "plt.plot(expected[val_from:val_to], label = 'Expected')\n",
    "plt.ylabel('Wind Speed (Normalized)')\n",
    "plt.xticks(range(val_from, val_to))\n",
    "plt.xlabel('Time Range')\n",
    "plt.legend()\n",
    "plt.title('Model Output Validation')\n",
    "plt.show()"
   ]
  },
  {
   "cell_type": "code",
   "execution_count": 14,
   "metadata": {},
   "outputs": [
    {
     "name": "stdout",
     "output_type": "stream",
     "text": [
      "v1  - dir Already exists\n",
      "Model saved in v1\n",
      "Optimizer saved in v1\n"
     ]
    }
   ],
   "source": [
    "model.save('v1', save_optim=True, cuda=cuda)"
   ]
  },
  {
   "cell_type": "code",
   "execution_count": null,
   "metadata": {},
   "outputs": [],
   "source": []
  }
 ],
 "metadata": {
  "kernelspec": {
   "display_name": "Python 3",
   "language": "python",
   "name": "python3"
  },
  "language_info": {
   "codemirror_mode": {
    "name": "ipython",
    "version": 3
   },
   "file_extension": ".py",
   "mimetype": "text/x-python",
   "name": "python",
   "nbconvert_exporter": "python",
   "pygments_lexer": "ipython3",
   "version": "3.7.4"
  }
 },
 "nbformat": 4,
 "nbformat_minor": 2
}
