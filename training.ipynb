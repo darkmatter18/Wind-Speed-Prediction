{
 "cells": [
  {
   "cell_type": "code",
   "execution_count": null,
   "metadata": {},
   "outputs": [],
   "source": [
    "#    Copyright 2020 Arkadip Bhattacharya\n",
    "\n",
    "#    Licensed under the Apache License, Version 2.0 (the \"License\");\n",
    "#    you may not use this file except in compliance with the License.\n",
    "#    You may obtain a copy of the License at\n",
    "\n",
    "#        http://www.apache.org/licenses/LICENSE-2.0\n",
    "\n",
    "#    Unless required by applicable law or agreed to in writing, software\n",
    "#    distributed under the License is distributed on an \"AS IS\" BASIS,\n",
    "#    WITHOUT WARRANTIES OR CONDITIONS OF ANY KIND, either express or implied.\n",
    "#    See the License for the specific language governing permissions and\n",
    "#    limitations under the License."
   ]
  },
  {
   "cell_type": "markdown",
   "metadata": {},
   "source": [
    "### Wind speed Prediction\n",
    "\n",
    "This notebook contains all necessary codes to Train a `Deep Learning Model` and Validate it.\n",
    "\n",
    "The Model is based on `Pytorch`"
   ]
  },
  {
   "cell_type": "code",
   "execution_count": 1,
   "metadata": {},
   "outputs": [],
   "source": [
    "## Importing all the necessary Libraries along with some self-made functions\n",
    "\n",
    "%matplotlib inline\n",
    "\n",
    "%load_ext autoreload\n",
    "%autoreload 2\n",
    "\n",
    "import torch\n",
    "import numpy as np\n",
    "import pandas as pd\n",
    "import matplotlib.pyplot as plt\n",
    "from torch.utils.data import dataloader\n",
    "from sklearn.model_selection import train_test_split\n",
    "\n",
    "from preprocessing import Normalize_df, WindSpeedDataset, WindSpeedTimeSeriesDataset, ComposeTransform, ToTensor"
   ]
  },
  {
   "cell_type": "code",
   "execution_count": 2,
   "metadata": {},
   "outputs": [
    {
     "data": {
      "text/html": [
       "<div>\n",
       "<style scoped>\n",
       "    .dataframe tbody tr th:only-of-type {\n",
       "        vertical-align: middle;\n",
       "    }\n",
       "\n",
       "    .dataframe tbody tr th {\n",
       "        vertical-align: top;\n",
       "    }\n",
       "\n",
       "    .dataframe thead th {\n",
       "        text-align: right;\n",
       "    }\n",
       "</style>\n",
       "<table border=\"1\" class=\"dataframe\">\n",
       "  <thead>\n",
       "    <tr style=\"text-align: right;\">\n",
       "      <th></th>\n",
       "      <th>time</th>\n",
       "      <th>air_temperature_mean</th>\n",
       "      <th>pressure</th>\n",
       "      <th>wind_direction</th>\n",
       "      <th>wind_speed</th>\n",
       "    </tr>\n",
       "  </thead>\n",
       "  <tbody>\n",
       "    <tr>\n",
       "      <th>0</th>\n",
       "      <td>0.000000</td>\n",
       "      <td>0.370203</td>\n",
       "      <td>0.103164</td>\n",
       "      <td>0.732591</td>\n",
       "      <td>0.625000</td>\n",
       "    </tr>\n",
       "    <tr>\n",
       "      <th>1</th>\n",
       "      <td>0.000011</td>\n",
       "      <td>0.322799</td>\n",
       "      <td>0.268912</td>\n",
       "      <td>0.838440</td>\n",
       "      <td>0.354167</td>\n",
       "    </tr>\n",
       "    <tr>\n",
       "      <th>2</th>\n",
       "      <td>0.000022</td>\n",
       "      <td>0.302483</td>\n",
       "      <td>0.709078</td>\n",
       "      <td>0.988858</td>\n",
       "      <td>0.260417</td>\n",
       "    </tr>\n",
       "    <tr>\n",
       "      <th>3</th>\n",
       "      <td>0.000033</td>\n",
       "      <td>0.246050</td>\n",
       "      <td>0.850758</td>\n",
       "      <td>0.239554</td>\n",
       "      <td>0.093750</td>\n",
       "    </tr>\n",
       "    <tr>\n",
       "      <th>4</th>\n",
       "      <td>0.000044</td>\n",
       "      <td>0.194131</td>\n",
       "      <td>0.827372</td>\n",
       "      <td>0.345404</td>\n",
       "      <td>0.291667</td>\n",
       "    </tr>\n",
       "  </tbody>\n",
       "</table>\n",
       "</div>"
      ],
      "text/plain": [
       "       time  air_temperature_mean  pressure  wind_direction  wind_speed\n",
       "0  0.000000              0.370203  0.103164        0.732591    0.625000\n",
       "1  0.000011              0.322799  0.268912        0.838440    0.354167\n",
       "2  0.000022              0.302483  0.709078        0.988858    0.260417\n",
       "3  0.000033              0.246050  0.850758        0.239554    0.093750\n",
       "4  0.000044              0.194131  0.827372        0.345404    0.291667"
      ]
     },
     "execution_count": 2,
     "metadata": {},
     "output_type": "execute_result"
    }
   ],
   "source": [
    "# Reading the Dataset\n",
    "# Nomalizing it using self-made *Normalize_df* function and returns a Pandas.Dataframe\n",
    "\n",
    "dataset = Normalize_df(pd.read_csv('./dataset-daily.csv'))\n",
    "dataset.head()"
   ]
  },
  {
   "cell_type": "code",
   "execution_count": 3,
   "metadata": {},
   "outputs": [],
   "source": [
    "# Spliting the Dataset into Train Set, Test Set and Validation Set\n",
    "\n",
    "trainset, testset = train_test_split(dataset, test_size = 0.1)\n",
    "trainset, valset = train_test_split(trainset, test_size = 0.1)"
   ]
  },
  {
   "cell_type": "code",
   "execution_count": 4,
   "metadata": {},
   "outputs": [
    {
     "data": {
      "text/plain": [
       "time                    0.000121\n",
       "air_temperature_mean    0.313770\n",
       "pressure                0.418845\n",
       "wind_direction          0.908078\n",
       "wind_speed              0.510417\n",
       "Name: 11, dtype: float64"
      ]
     },
     "execution_count": 4,
     "metadata": {},
     "output_type": "execute_result"
    }
   ],
   "source": [
    "# A Example Training Attributes\n",
    "\n",
    "trainset.iloc[0]"
   ]
  },
  {
   "cell_type": "code",
   "execution_count": 5,
   "metadata": {},
   "outputs": [],
   "source": [
    "# Creating the Time Series dataset Generators with window_size=6\n",
    "# Using the ComposeTranform to Tranform each Time Series matrics into a Torch.Tensor\n",
    "\n",
    "train_dataset = WindSpeedTimeSeriesDataset(trainset, window_size=6, transform=ComposeTransform([ToTensor()]))\n",
    "test_dataset = WindSpeedTimeSeriesDataset(testset, window_size=6, transform=ComposeTransform([ToTensor()]))\n",
    "val_dataset = WindSpeedTimeSeriesDataset(valset, window_size=6, transform=ComposeTransform([ToTensor()]))"
   ]
  },
  {
   "cell_type": "code",
   "execution_count": 6,
   "metadata": {},
   "outputs": [
    {
     "data": {
      "text/plain": [
       "tensor([[0.3138, 0.4188, 0.9081],\n",
       "        [0.4718, 0.3446, 0.5487],\n",
       "        [0.3679, 0.1424, 0.7354],\n",
       "        [0.5553, 0.7228, 0.0585],\n",
       "        [0.5011, 0.3748, 0.6184],\n",
       "        [0.6366, 0.5784, 0.4903]], dtype=torch.float64)"
      ]
     },
     "execution_count": 6,
     "metadata": {},
     "output_type": "execute_result"
    }
   ],
   "source": [
    "# The first Time Series features matix\n",
    "# Each row corresponding to a different times\n",
    "# Each variables in a time signifies a feature\n",
    "\n",
    "train_dataset[0][0]"
   ]
  },
  {
   "cell_type": "code",
   "execution_count": 7,
   "metadata": {},
   "outputs": [
    {
     "data": {
      "text/plain": [
       "tensor([[0.5104],\n",
       "        [0.1146],\n",
       "        [0.3646],\n",
       "        [0.3229],\n",
       "        [0.6146],\n",
       "        [0.1771]], dtype=torch.float64)"
      ]
     },
     "execution_count": 7,
     "metadata": {},
     "output_type": "execute_result"
    }
   ],
   "source": [
    "# The first Time Series labels vector\n",
    "# Each row is a label of different times\n",
    "\n",
    "train_dataset[0][1]"
   ]
  },
  {
   "cell_type": "code",
   "execution_count": 8,
   "metadata": {},
   "outputs": [],
   "source": [
    "# Genarating Pytorch DataLoader for the Training and Testing of the Model\n",
    "# Setting the Batch size\n",
    "\n",
    "batch_size = 32\n",
    "\n",
    "trainloader = dataloader.DataLoader(train_dataset, batch_size, shuffle = True)\n",
    "valloader = dataloader.DataLoader(val_dataset, batch_size, shuffle = False)\n",
    "testloader = dataloader.DataLoader(test_dataset, batch_size, shuffle = False)"
   ]
  },
  {
   "cell_type": "code",
   "execution_count": 9,
   "metadata": {},
   "outputs": [
    {
     "name": "stdout",
     "output_type": "stream",
     "text": [
      "Features Size: torch.Size([32, 6, 3])\n",
      "Labels Size: torch.Size([32, 6, 1])\n"
     ]
    }
   ],
   "source": [
    "# Checking the Size of the Features and Label matrix\n",
    "# Features Size = (Batch_size, Time_steps, no_of_features)\n",
    "# Leabels Size = (Batch_size, Time_steps, no_of_labels)\n",
    "\n",
    "f, l = next(iter(trainloader))\n",
    "\n",
    "print(f'Features Size: {f.shape}')\n",
    "print(f'Labels Size: {l.shape}')"
   ]
  },
  {
   "cell_type": "code",
   "execution_count": 10,
   "metadata": {},
   "outputs": [
    {
     "name": "stdout",
     "output_type": "stream",
     "text": [
      "Device Count: 1\n",
      "Device: Tesla K80\n",
      "Device Capability: (3, 7)\n"
     ]
    }
   ],
   "source": [
    "# Checking for the GPU for using Hardware Accelerations\n",
    "# Set the `cuda` and `device` variables accordingly to use the correct device\n",
    "\n",
    "cuda = torch.cuda.is_available()\n",
    "device = torch.device('cuda') if cuda else torch.device('cpu')\n",
    "if cuda:\n",
    "    print(\"Device Count:\", torch.cuda.device_count())\n",
    "    print(\"Device:\", torch.cuda.get_device_name())\n",
    "    print(\"Device Capability:\", torch.cuda.get_device_capability())"
   ]
  },
  {
   "cell_type": "code",
   "execution_count": 23,
   "metadata": {},
   "outputs": [
    {
     "name": "stdout",
     "output_type": "stream",
     "text": [
      "Model(\n",
      "  (lstm1): LSTM(3, 100, batch_first=True)\n",
      "  (drop1): Dropout(p=0.2, inplace=False)\n",
      "  (fc2): Linear(in_features=100, out_features=50, bias=True)\n",
      "  (drop2): Dropout(p=0.2, inplace=False)\n",
      "  (fc3): Linear(in_features=50, out_features=1, bias=True)\n",
      ")\n"
     ]
    }
   ],
   "source": [
    "# Importing the Model from model.py\n",
    "# Setting the Model hyperparameters and create an instance of it\n",
    "# Send the model to the appropriate device\n",
    "\n",
    "from model import Model\n",
    "model = Model(input_size = 3, hidden_size = 100, lstm_num_layers = 1, cuda=cuda)\n",
    "model.to(device)\n",
    "print(model)"
   ]
  },
  {
   "cell_type": "code",
   "execution_count": 24,
   "metadata": {},
   "outputs": [
    {
     "name": "stdout",
     "output_type": "stream",
     "text": [
      "92/92 [==============================] - 3s 31ms/step - Epoch: 1.0000 - Training Loss: 0.1198 - Test Loss: 0.0150\n",
      "92/92 [==============================] - 3s 30ms/step - Epoch: 2.0000 - Training Loss: 0.0997 - Test Loss: 0.0110\n",
      "92/92 [==============================] - 3s 30ms/step - Epoch: 3.0000 - Training Loss: 0.0900 - Test Loss: 0.0100\n",
      "92/92 [==============================] - 3s 29ms/step - Epoch: 4.0000 - Training Loss: 0.0888 - Test Loss: 0.0099\n",
      "92/92 [==============================] - 3s 29ms/step - Epoch: 5.0000 - Training Loss: 0.0876 - Test Loss: 0.0099\n",
      "92/92 [==============================] - 3s 30ms/step - Epoch: 6.0000 - Training Loss: 0.0869 - Test Loss: 0.0098\n",
      "92/92 [==============================] - 3s 30ms/step - Epoch: 7.0000 - Training Loss: 0.0866 - Test Loss: 0.0100\n",
      "92/92 [==============================] - 3s 30ms/step - Epoch: 8.0000 - Training Loss: 0.0879 - Test Loss: 0.0099\n",
      "92/92 [==============================] - 3s 30ms/step - Epoch: 9.0000 - Training Loss: 0.0868 - Test Loss: 0.0099\n",
      "92/92 [==============================] - 3s 30ms/step - Epoch: 10.0000 - Training Loss: 0.0854 - Test Loss: 0.0098\n",
      "92/92 [==============================] - 3s 30ms/step - Epoch: 11.0000 - Training Loss: 0.0843 - Test Loss: 0.0098\n",
      "92/92 [==============================] - 3s 30ms/step - Epoch: 12.0000 - Training Loss: 0.0852 - Test Loss: 0.0097\n",
      "92/92 [==============================] - 3s 30ms/step - Epoch: 13.0000 - Training Loss: 0.0832 - Test Loss: 0.0098\n",
      "92/92 [==============================] - 3s 30ms/step - Epoch: 14.0000 - Training Loss: 0.0825 - Test Loss: 0.0096\n",
      "92/92 [==============================] - 3s 31ms/step - Epoch: 15.0000 - Training Loss: 0.0803 - Test Loss: 0.0094\n",
      "92/92 [==============================] - 3s 31ms/step - Epoch: 16.0000 - Training Loss: 0.0815 - Test Loss: 0.0094\n",
      "92/92 [==============================] - 3s 30ms/step - Epoch: 17.0000 - Training Loss: 0.0792 - Test Loss: 0.0092\n",
      "92/92 [==============================] - 3s 30ms/step - Epoch: 18.0000 - Training Loss: 0.0789 - Test Loss: 0.0092\n",
      "92/92 [==============================] - 3s 30ms/step - Epoch: 19.0000 - Training Loss: 0.0790 - Test Loss: 0.0092\n",
      "92/92 [==============================] - 3s 30ms/step - Epoch: 20.0000 - Training Loss: 0.0781 - Test Loss: 0.0092\n"
     ]
    }
   ],
   "source": [
    "# Set the Model Optimizer, Using 'Adam'\n",
    "# Set the Loss Function, Using 'SmoothL1Loss'\n",
    "# Running the training routing\n",
    "\n",
    "from torch.optim import Adam\n",
    "from torch.nn import SmoothL1Loss\n",
    "\n",
    "epochs = 20\n",
    "trainlosses, testlosses = model.fit(trainloader = trainloader,\n",
    "                                    validationloader = valloader,\n",
    "                                    loss = SmoothL1Loss,\n",
    "                                    optim = Adam,\n",
    "                                    lr=0.001,\n",
    "                                    epochs = epochs, \n",
    "                                    val_per_batch = 20)"
   ]
  },
  {
   "cell_type": "code",
   "execution_count": 25,
   "metadata": {},
   "outputs": [
    {
     "data": {
      "image/png": "[encoded data removed]",
      "text/plain": [
       "<Figure size 432x288 with 1 Axes>"
      ]
     },
     "metadata": {
      "needs_background": "light"
     },
     "output_type": "display_data"
    }
   ],
   "source": [
    "# Ploting the Loss stats\n",
    "\n",
    "plt.plot(trainlosses, label = 'Training Losses')\n",
    "plt.plot(testlosses, label = 'Testing Losses')\n",
    "plt.ylabel('Losses')\n",
    "plt.xlabel('Batch * Epoch')\n",
    "plt.legend()\n",
    "plt.title('Losses Graph')\n",
    "plt.show()"
   ]
  },
  {
   "cell_type": "code",
   "execution_count": 26,
   "metadata": {},
   "outputs": [],
   "source": [
    "# Running the model test\n",
    "# Ruturns the result and actual arrayes\n",
    "\n",
    "result, actual = model.test(testloader)"
   ]
  },
  {
   "cell_type": "code",
   "execution_count": 35,
   "metadata": {},
   "outputs": [
    {
     "data": {
      "image/png": "[encoded data removed]",
      "text/plain": [
       "<Figure size 432x288 with 1 Axes>"
      ]
     },
     "metadata": {
      "needs_background": "light"
     },
     "output_type": "display_data"
    }
   ],
   "source": [
    "# Ploting the Validation Graph\n",
    "\n",
    "# Just some random checking\n",
    "val_from = 200\n",
    "val_to = 240\n",
    "\n",
    "plt.plot(result[val_from:val_to], label = 'Result')\n",
    "plt.plot(actual[val_from:val_to], label = 'Actual')\n",
    "plt.ylabel('Wind Speed (Normalized)')\n",
    "#plt.xticks(range(val_from, val_to))\n",
    "plt.xlabel('Time Range')\n",
    "plt.legend()\n",
    "plt.title('Model Output Validation')\n",
    "plt.show()"
   ]
  },
  {
   "cell_type": "code",
   "execution_count": 29,
   "metadata": {},
   "outputs": [
    {
     "name": "stdout",
     "output_type": "stream",
     "text": [
      "lstm-v1  - dir Already exists\n",
      "Model saved in lstm-v1\n",
      "Optimizer saved in lstm-v1\n"
     ]
    }
   ],
   "source": [
    "# Saving the Model\n",
    "\n",
    "model.save('lstm-v1', save_optim=True)"
   ]
  },
  {
   "cell_type": "code",
   "execution_count": null,
   "metadata": {},
   "outputs": [],
   "source": []
  }
 ],
 "metadata": {
  "kernelspec": {
   "display_name": "Python 3",
   "language": "python",
   "name": "python3"
  },
  "language_info": {
   "codemirror_mode": {
    "name": "ipython",
    "version": 3
   },
   "file_extension": ".py",
   "mimetype": "text/x-python",
   "name": "python",
   "nbconvert_exporter": "python",
   "pygments_lexer": "ipython3",
   "version": "3.7.4"
  }
 },
 "nbformat": 4,
 "nbformat_minor": 4
}
