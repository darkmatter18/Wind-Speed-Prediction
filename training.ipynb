{
 "cells": [
  {
   "cell_type": "code",
   "execution_count": null,
   "metadata": {},
   "outputs": [],
   "source": [
    "#    Copyright 2020 Arkadip Bhattacharya\n",
    "\n",
    "#    Licensed under the Apache License, Version 2.0 (the \"License\");\n",
    "#    you may not use this file except in compliance with the License.\n",
    "#    You may obtain a copy of the License at\n",
    "\n",
    "#        http://www.apache.org/licenses/LICENSE-2.0\n",
    "\n",
    "#    Unless required by applicable law or agreed to in writing, software\n",
    "#    distributed under the License is distributed on an \"AS IS\" BASIS,\n",
    "#    WITHOUT WARRANTIES OR CONDITIONS OF ANY KIND, either express or implied.\n",
    "#    See the License for the specific language governing permissions and\n",
    "#    limitations under the License."
   ]
  },
  {
   "cell_type": "markdown",
   "metadata": {},
   "source": [
    "### Wind speed Prediction\n",
    "\n",
    "This notebook contains all necessary codes to Train a `Deep Learning Model` and Validate it.\n",
    "\n",
    "The Model is based on `Pytorch`"
   ]
  },
  {
   "cell_type": "code",
   "execution_count": 1,
   "metadata": {},
   "outputs": [],
   "source": [
    "## Importing all the necessary Libraries along with some self-made functions\n",
    "\n",
    "%matplotlib inline\n",
    "\n",
    "%load_ext autoreload\n",
    "%autoreload 2\n",
    "\n",
    "import os\n",
    "import torch\n",
    "import numpy as np\n",
    "import pandas as pd\n",
    "import matplotlib.pyplot as plt\n",
    "from torch.utils.data import dataloader\n",
    "from sklearn.model_selection import train_test_split\n",
    "\n",
    "from preprocessing import Normalize_df, WindSpeedDataset, WindSpeedTimeSeriesDataset, ComposeTransform, ToTensor"
   ]
  },
  {
   "cell_type": "code",
   "execution_count": 2,
   "metadata": {},
   "outputs": [
    {
     "data": {
      "text/html": [
       "<div>\n",
       "<style scoped>\n",
       "    .dataframe tbody tr th:only-of-type {\n",
       "        vertical-align: middle;\n",
       "    }\n",
       "\n",
       "    .dataframe tbody tr th {\n",
       "        vertical-align: top;\n",
       "    }\n",
       "\n",
       "    .dataframe thead th {\n",
       "        text-align: right;\n",
       "    }\n",
       "</style>\n",
       "<table border=\"1\" class=\"dataframe\">\n",
       "  <thead>\n",
       "    <tr style=\"text-align: right;\">\n",
       "      <th></th>\n",
       "      <th>time</th>\n",
       "      <th>air_temperature_mean</th>\n",
       "      <th>pressure</th>\n",
       "      <th>wind_direction</th>\n",
       "      <th>wind_speed</th>\n",
       "    </tr>\n",
       "  </thead>\n",
       "  <tbody>\n",
       "    <tr>\n",
       "      <td>0</td>\n",
       "      <td>0.000000</td>\n",
       "      <td>0.370203</td>\n",
       "      <td>0.103164</td>\n",
       "      <td>0.732591</td>\n",
       "      <td>0.625000</td>\n",
       "    </tr>\n",
       "    <tr>\n",
       "      <td>1</td>\n",
       "      <td>0.000011</td>\n",
       "      <td>0.322799</td>\n",
       "      <td>0.268912</td>\n",
       "      <td>0.838440</td>\n",
       "      <td>0.354167</td>\n",
       "    </tr>\n",
       "    <tr>\n",
       "      <td>2</td>\n",
       "      <td>0.000022</td>\n",
       "      <td>0.302483</td>\n",
       "      <td>0.709078</td>\n",
       "      <td>0.988858</td>\n",
       "      <td>0.260417</td>\n",
       "    </tr>\n",
       "    <tr>\n",
       "      <td>3</td>\n",
       "      <td>0.000033</td>\n",
       "      <td>0.246050</td>\n",
       "      <td>0.850758</td>\n",
       "      <td>0.239554</td>\n",
       "      <td>0.093750</td>\n",
       "    </tr>\n",
       "    <tr>\n",
       "      <td>4</td>\n",
       "      <td>0.000044</td>\n",
       "      <td>0.194131</td>\n",
       "      <td>0.827372</td>\n",
       "      <td>0.345404</td>\n",
       "      <td>0.291667</td>\n",
       "    </tr>\n",
       "  </tbody>\n",
       "</table>\n",
       "</div>"
      ],
      "text/plain": [
       "       time  air_temperature_mean  pressure  wind_direction  wind_speed\n",
       "0  0.000000              0.370203  0.103164        0.732591    0.625000\n",
       "1  0.000011              0.322799  0.268912        0.838440    0.354167\n",
       "2  0.000022              0.302483  0.709078        0.988858    0.260417\n",
       "3  0.000033              0.246050  0.850758        0.239554    0.093750\n",
       "4  0.000044              0.194131  0.827372        0.345404    0.291667"
      ]
     },
     "execution_count": 2,
     "metadata": {},
     "output_type": "execute_result"
    }
   ],
   "source": [
    "# Reading the Dataset\n",
    "# Nomalizing it using self-made *Normalize_df* function and returns a Pandas.Dataframe\n",
    "\n",
    "dataset = Normalize_df(pd.read_csv('./dataset-daily.csv'))\n",
    "dataset.head()"
   ]
  },
  {
   "cell_type": "code",
   "execution_count": 3,
   "metadata": {},
   "outputs": [],
   "source": [
    "# Spliting the Dataset into Train Set, Test Set and Validation Set\n",
    "\n",
    "trainset, testset = train_test_split(dataset, test_size = 0.1)\n",
    "trainset, valset = train_test_split(trainset, test_size = 0.1)"
   ]
  },
  {
   "cell_type": "code",
   "execution_count": 4,
   "metadata": {},
   "outputs": [
    {
     "data": {
      "text/plain": [
       "time                    0.448941\n",
       "air_temperature_mean    0.564334\n",
       "pressure                0.699449\n",
       "wind_direction          0.757660\n",
       "wind_speed              0.302083\n",
       "Name: 1746, dtype: float64"
      ]
     },
     "execution_count": 4,
     "metadata": {},
     "output_type": "execute_result"
    }
   ],
   "source": [
    "# A Example Training Attributes\n",
    "\n",
    "trainset.iloc[0]"
   ]
  },
  {
   "cell_type": "code",
   "execution_count": 5,
   "metadata": {},
   "outputs": [],
   "source": [
    "# Creating the Time Series dataset Generators with window_size=6\n",
    "# Using the ComposeTranform to Tranform each Time Series matrics into a Torch.Tensor\n",
    "\n",
    "train_dataset = WindSpeedTimeSeriesDataset(trainset, window_size=6, transform=ComposeTransform([ToTensor()]))\n",
    "test_dataset = WindSpeedTimeSeriesDataset(testset, window_size=6, transform=ComposeTransform([ToTensor()]))\n",
    "val_dataset = WindSpeedTimeSeriesDataset(valset, window_size=6, transform=ComposeTransform([ToTensor()]))"
   ]
  },
  {
   "cell_type": "code",
   "execution_count": 6,
   "metadata": {},
   "outputs": [
    {
     "data": {
      "text/plain": [
       "tensor([[0.5643, 0.6994, 0.7577],\n",
       "        [0.5056, 0.4642, 0.6435],\n",
       "        [0.8036, 0.4849, 0.6184],\n",
       "        [0.4515, 0.5048, 0.7409],\n",
       "        [0.6208, 0.4298, 0.4930],\n",
       "        [0.5869, 0.3343, 0.5738]], dtype=torch.float64)"
      ]
     },
     "execution_count": 6,
     "metadata": {},
     "output_type": "execute_result"
    }
   ],
   "source": [
    "# The first Time Series features matix\n",
    "# Each row corresponding to a different times\n",
    "# Each variables in a time signifies a feature\n",
    "\n",
    "train_dataset[0][0]"
   ]
  },
  {
   "cell_type": "code",
   "execution_count": 7,
   "metadata": {},
   "outputs": [
    {
     "data": {
      "text/plain": [
       "tensor([[0.3021, 0.6146, 0.1562, 0.3958, 0.2812, 0.3750]], dtype=torch.float64)"
      ]
     },
     "execution_count": 7,
     "metadata": {},
     "output_type": "execute_result"
    }
   ],
   "source": [
    "# The first Time Series labels vector\n",
    "# Each row is a label of different times\n",
    "\n",
    "train_dataset[0][1]"
   ]
  },
  {
   "cell_type": "code",
   "execution_count": 8,
   "metadata": {},
   "outputs": [],
   "source": [
    "# Genarating Pytorch DataLoader for the Training and Testing of the Model\n",
    "# Setting the Batch size\n",
    "\n",
    "batch_size = 32\n",
    "\n",
    "trainloader = dataloader.DataLoader(train_dataset, batch_size, shuffle = True)\n",
    "valloader = dataloader.DataLoader(val_dataset, batch_size, shuffle = False)\n",
    "testloader = dataloader.DataLoader(test_dataset, batch_size, shuffle = False)"
   ]
  },
  {
   "cell_type": "code",
   "execution_count": 9,
   "metadata": {},
   "outputs": [
    {
     "name": "stdout",
     "output_type": "stream",
     "text": [
      "Features Size: torch.Size([32, 6, 3])\n",
      "Labels Size: torch.Size([32, 1, 6])\n"
     ]
    }
   ],
   "source": [
    "# Checking the Size of the Features and Label matrix\n",
    "# Features Size = (Batch_size, Time_steps, no_of_features)\n",
    "# Leabels Size = (Batch_size, Time_steps, no_of_labels)\n",
    "\n",
    "f, l = next(iter(trainloader))\n",
    "\n",
    "print(f'Features Size: {f.shape}')\n",
    "print(f'Labels Size: {l.shape}')"
   ]
  },
  {
   "cell_type": "code",
   "execution_count": 10,
   "metadata": {},
   "outputs": [
    {
     "name": "stdout",
     "output_type": "stream",
     "text": [
      "Device Count: 1\n",
      "Device: GeForce 940MX\n",
      "Device Capability: (5, 0)\n"
     ]
    }
   ],
   "source": [
    "# Checking for the GPU for using Hardware Accelerations\n",
    "# Set the `cuda` and `device` variables accordingly to use the correct device\n",
    "\n",
    "cuda = torch.cuda.is_available()\n",
    "device = torch.device('cuda') if cuda else torch.device('cpu')\n",
    "if cuda:\n",
    "    print(\"Device Count:\", torch.cuda.device_count())\n",
    "    print(\"Device:\", torch.cuda.get_device_name())\n",
    "    print(\"Device Capability:\", torch.cuda.get_device_capability())"
   ]
  },
  {
   "cell_type": "code",
   "execution_count": 11,
   "metadata": {},
   "outputs": [
    {
     "name": "stdout",
     "output_type": "stream",
     "text": [
      "Model(\n",
      "  (conv1): Conv1d(6, 18, kernel_size=(1,), stride=(1,))\n",
      "  (pool1): MaxPool1d(kernel_size=1, stride=1, padding=0, dilation=1, ceil_mode=False)\n",
      "  (drop1): Dropout(p=0.2, inplace=False)\n",
      "  (fc2): Linear(in_features=54, out_features=51, bias=True)\n",
      "  (drop2): Dropout(p=0.2, inplace=False)\n",
      "  (lstm3): LSTM(51, 102, batch_first=True)\n",
      "  (drop3): Dropout(p=0.2, inplace=False)\n",
      "  (fc4): Linear(in_features=102, out_features=51, bias=True)\n",
      "  (drop4): Dropout(p=0.2, inplace=False)\n",
      "  (fc5): Linear(in_features=51, out_features=6, bias=True)\n",
      ")\n"
     ]
    }
   ],
   "source": [
    "# Importing the Model from model.py\n",
    "# Setting the Model hyperparameters and create an instance of it\n",
    "# Send the model to the appropriate device\n",
    "\n",
    "from model import Model\n",
    "model = Model(input_size = 3,\n",
    "              lstm_input_size = 51,\n",
    "              lstm_hidden_size = 102,\n",
    "              time_series = 6,\n",
    "              lstm_num_layers = 1,\n",
    "              cuda=cuda)\n",
    "model.to(device)\n",
    "print(model)"
   ]
  },
  {
   "cell_type": "code",
   "execution_count": 12,
   "metadata": {},
   "outputs": [],
   "source": [
    "# Setting Up training criteria\n",
    "\n",
    "from torch import nn\n",
    "from torch.optim import Adam\n",
    "\n",
    "optimizer = Adam(params=model.parameters(), lr= 0.001)\n",
    "criterion = nn.SmoothL1Loss()"
   ]
  },
  {
   "cell_type": "code",
   "execution_count": 13,
   "metadata": {},
   "outputs": [
    {
     "ename": "NameError",
     "evalue": "name 'path' is not defined",
     "output_type": "error",
     "traceback": [
      "\u001b[1;31m---------------------------------------------------------------------------\u001b[0m",
      "\u001b[1;31mNameError\u001b[0m                                 Traceback (most recent call last)",
      "\u001b[1;32m<ipython-input-13-b6276fe04597>\u001b[0m in \u001b[0;36m<module>\u001b[1;34m\u001b[0m\n\u001b[0;32m      1\u001b[0m \u001b[1;31m# loading the pretrained model\u001b[0m\u001b[1;33m\u001b[0m\u001b[1;33m\u001b[0m\u001b[1;33m\u001b[0m\u001b[0m\n\u001b[0;32m      2\u001b[0m \u001b[1;33m\u001b[0m\u001b[0m\n\u001b[1;32m----> 3\u001b[1;33m \u001b[0mmodel\u001b[0m\u001b[1;33m.\u001b[0m\u001b[0mload_state_dict\u001b[0m\u001b[1;33m(\u001b[0m\u001b[0mtorch\u001b[0m\u001b[1;33m.\u001b[0m\u001b[0mload\u001b[0m\u001b[1;33m(\u001b[0m\u001b[0mos\u001b[0m\u001b[1;33m.\u001b[0m\u001b[0mpath\u001b[0m\u001b[1;33m.\u001b[0m\u001b[0mjoin\u001b[0m\u001b[1;33m(\u001b[0m\u001b[1;34m'model'\u001b[0m\u001b[1;33m,\u001b[0m \u001b[0mpath\u001b[0m\u001b[1;33m,\u001b[0m \u001b[1;34m'model.pt'\u001b[0m\u001b[1;33m)\u001b[0m\u001b[1;33m,\u001b[0m \u001b[0mmap_location\u001b[0m\u001b[1;33m=\u001b[0m\u001b[0mdevice\u001b[0m\u001b[1;33m)\u001b[0m\u001b[1;33m)\u001b[0m\u001b[1;33m\u001b[0m\u001b[1;33m\u001b[0m\u001b[0m\n\u001b[0m\u001b[0;32m      4\u001b[0m \u001b[0moptimizer\u001b[0m\u001b[1;33m.\u001b[0m\u001b[0mload_state_dict\u001b[0m\u001b[1;33m(\u001b[0m\u001b[0mtorch\u001b[0m\u001b[1;33m.\u001b[0m\u001b[0mload\u001b[0m\u001b[1;33m(\u001b[0m\u001b[0mos\u001b[0m\u001b[1;33m.\u001b[0m\u001b[0mpath\u001b[0m\u001b[1;33m.\u001b[0m\u001b[0mjoin\u001b[0m\u001b[1;33m(\u001b[0m\u001b[1;34m'model'\u001b[0m\u001b[1;33m,\u001b[0m \u001b[0mpath\u001b[0m\u001b[1;33m,\u001b[0m \u001b[1;34m'optim.pt'\u001b[0m\u001b[1;33m)\u001b[0m\u001b[1;33m,\u001b[0m \u001b[0mmap_location\u001b[0m\u001b[1;33m=\u001b[0m\u001b[0mdevice\u001b[0m\u001b[1;33m)\u001b[0m\u001b[1;33m)\u001b[0m\u001b[1;33m\u001b[0m\u001b[1;33m\u001b[0m\u001b[0m\n",
      "\u001b[1;31mNameError\u001b[0m: name 'path' is not defined"
     ]
    }
   ],
   "source": [
    "# loading the pretrained model\n",
    "\n",
    "model.load_state_dict(torch.load(os.path.join('model', path, 'model.pt'), map_location=device))\n",
    "optimizer.load_state_dict(torch.load(os.path.join('model', path, 'optim.pt'), map_location=device))"
   ]
  },
  {
   "cell_type": "code",
   "execution_count": 14,
   "metadata": {
    "scrolled": true
   },
   "outputs": [
    {
     "name": "stdout",
     "output_type": "stream",
     "text": [
      "92/92 [==============================] - 16s 178ms/step - Epoch: 1.0000 - Training Loss: 1.9982e-04 - Test Loss: 0.0150\n",
      "92/92 [==============================] - 15s 165ms/step - Epoch: 2.0000 - Training Loss: 1.3526e-04 - Test Loss: 0.0100\n",
      "92/92 [==============================] - 15s 166ms/step - Epoch: 3.0000 - Training Loss: 1.3186e-04 - Test Loss: 0.0099\n",
      "92/92 [==============================] - 15s 168ms/step - Epoch: 4.0000 - Training Loss: 1.2899e-04 - Test Loss: 0.0098\n",
      "92/92 [==============================] - 16s 170ms/step - Epoch: 5.0000 - Training Loss: 1.2721e-04 - Test Loss: 0.0097\n",
      "92/92 [==============================] - 15s 168ms/step - Epoch: 6.0000 - Training Loss: 1.2443e-04 - Test Loss: 0.0095\n",
      "92/92 [==============================] - 16s 171ms/step - Epoch: 7.0000 - Training Loss: 1.2305e-04 - Test Loss: 0.0094s - Epoch: 7.0000 - Training Loss: 1.2280e-04 - Test Loss\n",
      "92/92 [==============================] - 16s 169ms/step - Epoch: 8.0000 - Training Loss: 1.2144e-04 - Test Loss: 0.0091\n",
      "92/92 [==============================] - 15s 167ms/step - Epoch: 9.0000 - Training Loss: 1.1972e-04 - Test Loss: 0.0090\n",
      "92/92 [==============================] - 16s 172ms/step - Epoch: 10.0000 - Training Loss: 1.1854e-04 - Test Loss: 0.0089\n",
      "92/92 [==============================] - 15s 168ms/step - Epoch: 11.0000 - Training Loss: 1.1820e-04 - Test Loss: 0.0088\n",
      "92/92 [==============================] - 16s 169ms/step - Epoch: 12.0000 - Training Loss: 1.1779e-04 - Test Loss: 0.0088\n",
      "92/92 [==============================] - 15s 168ms/step - Epoch: 13.0000 - Training Loss: 1.1666e-04 - Test Loss: 0.0087\n",
      "92/92 [==============================] - 15s 168ms/step - Epoch: 14.0000 - Training Loss: 1.1698e-04 - Test Loss: 0.00874s - Epoch: 14.0000 - Training Loss: 1.1687\n",
      "92/92 [==============================] - 16s 169ms/step - Epoch: 15.0000 - Training Loss: 1.1612e-04 - Test Loss: 0.0086\n",
      "92/92 [==============================] - 17s 180ms/step - Epoch: 16.0000 - Training Loss: 1.1487e-04 - Test Loss: 0.0086\n",
      "92/92 [==============================] - 15s 167ms/step - Epoch: 17.0000 - Training Loss: 1.1451e-04 - Test Loss: 0.0086\n",
      "92/92 [==============================] - 16s 170ms/step - Epoch: 18.0000 - Training Loss: 1.1453e-04 - Test Loss: 0.0086\n",
      "92/92 [==============================] - 16s 170ms/step - Epoch: 19.0000 - Training Loss: 1.1450e-04 - Test Loss: 0.00869s - Epoch: 19.\n",
      "92/92 [==============================] - 16s 169ms/step - Epoch: 20.0000 - Training Loss: 1.1436e-04 - Test Loss: 0.00862s - Epoch: 20.0000 - Training Loss: 1.1365e-04 - Test\n"
     ]
    }
   ],
   "source": [
    "# Set the Model Optimizer, Using 'Adam'\n",
    "# Set the Loss Function, Using 'SmoothL1Loss'\n",
    "# Running the training routing\n",
    "\n",
    "\n",
    "epochs = 20\n",
    "trainlosses, testlosses = model.fit(trainloader = trainloader,\n",
    "                                    validationloader = valloader,\n",
    "                                    criterion = criterion,\n",
    "                                    optimizer = optimizer,\n",
    "                                    epochs = epochs, \n",
    "                                    val_per_batch = 20)"
   ]
  },
  {
   "cell_type": "code",
   "execution_count": 16,
   "metadata": {},
   "outputs": [
    {
     "data": {
      "image/png": "[encoded data removed]",
      "text/plain": [
       "<Figure size 432x288 with 1 Axes>"
      ]
     },
     "metadata": {
      "needs_background": "light"
     },
     "output_type": "display_data"
    }
   ],
   "source": [
    "# Ploting the Loss stats\n",
    "\n",
    "plt.plot(trainlosses, label = 'Training Losses')\n",
    "#plt.plot(testlosses, label = 'Testing Losses')\n",
    "plt.ylabel('Losses')\n",
    "plt.xlabel('Batch * Epoch')\n",
    "plt.legend()\n",
    "plt.title('Losses Graph')\n",
    "plt.show()"
   ]
  },
  {
   "cell_type": "code",
   "execution_count": 17,
   "metadata": {},
   "outputs": [],
   "source": [
    "# Running the model test\n",
    "# Ruturns the result and actual arrayes\n",
    "\n",
    "result, actual = model.test(testloader)"
   ]
  },
  {
   "cell_type": "code",
   "execution_count": 18,
   "metadata": {},
   "outputs": [
    {
     "data": {
      "image/png": "[encoded data removed]",
      "text/plain": [
       "<Figure size 432x288 with 1 Axes>"
      ]
     },
     "metadata": {
      "needs_background": "light"
     },
     "output_type": "display_data"
    }
   ],
   "source": [
    "# Ploting the Validation Graph\n",
    "\n",
    "# Just some random checking\n",
    "%matplotlib inline\n",
    "val_from = 0\n",
    "val_to = 240\n",
    "\n",
    "plt.plot(result[val_from:val_to], label = 'Result')\n",
    "plt.plot(actual[val_from:val_to], label = 'Actual')\n",
    "plt.ylabel('Wind Speed (Normalized)')\n",
    "#plt.xticks(range(val_from, val_to))\n",
    "plt.xlabel('Time Range')\n",
    "plt.legend()\n",
    "plt.title('Model Output Validation')\n",
    "plt.show()"
   ]
  },
  {
   "cell_type": "code",
   "execution_count": 19,
   "metadata": {},
   "outputs": [
    {
     "name": "stdout",
     "output_type": "stream",
     "text": [
      "lstm-v1  - dir Already exists\n",
      "Model saved in lstm-v1\n",
      "Optimizer saved in lstm-v1\n"
     ]
    }
   ],
   "source": [
    "# Saving the Model\n",
    "\n",
    "model.save_dict('lstm-v1', save_optim=True)"
   ]
  },
  {
   "cell_type": "code",
   "execution_count": 20,
   "metadata": {},
   "outputs": [
    {
     "name": "stdout",
     "output_type": "stream",
     "text": [
      "lstm-v1  - dir Already exists\n",
      "Summary Saved!\n"
     ]
    }
   ],
   "source": [
    "# save model summary\n",
    "\n",
    "model.save_summary('lstm-v1')"
   ]
  },
  {
   "cell_type": "code",
   "execution_count": 46,
   "metadata": {},
   "outputs": [
    {
     "name": "stdout",
     "output_type": "stream",
     "text": [
      "MAE:  0.11091697588562965\n",
      "MSE:  0.13980445948739847\n",
      "MAPE:  0.630652350684007\n"
     ]
    }
   ],
   "source": [
    "model.errors(testloader)"
   ]
  },
  {
   "cell_type": "code",
   "execution_count": null,
   "metadata": {},
   "outputs": [],
   "source": []
  }
 ],
 "metadata": {
  "kernelspec": {
   "display_name": "Python 3",
   "language": "python",
   "name": "python3"
  },
  "language_info": {
   "codemirror_mode": {
    "name": "ipython",
    "version": 3
   },
   "file_extension": ".py",
   "mimetype": "text/x-python",
   "name": "python",
   "nbconvert_exporter": "python",
   "pygments_lexer": "ipython3",
   "version": "3.7.4"
  }
 },
 "nbformat": 4,
 "nbformat_minor": 4
}
